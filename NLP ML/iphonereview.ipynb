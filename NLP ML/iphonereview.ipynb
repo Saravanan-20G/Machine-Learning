{
 "cells": [
  {
   "cell_type": "code",
   "execution_count": 15,
   "metadata": {},
   "outputs": [],
   "source": [
    "import numpy as np\n",
    "import pandas as pd\n",
    "import matplotlib.pyplot as plt\n",
    "import seaborn as sns\n",
    "from skimpy import skim\n",
    "import plotly.express as px"
   ]
  },
  {
   "cell_type": "code",
   "execution_count": 3,
   "metadata": {},
   "outputs": [],
   "source": [
    "df=pd.read_csv(r'C:\\Users\\Saravanan\\OneDrive\\Desktop\\Machine Learning\\nlp\\iphone.csv')"
   ]
  },
  {
   "cell_type": "code",
   "execution_count": 4,
   "metadata": {},
   "outputs": [
    {
     "data": {
      "text/html": [
       "<div>\n",
       "<style scoped>\n",
       "    .dataframe tbody tr th:only-of-type {\n",
       "        vertical-align: middle;\n",
       "    }\n",
       "\n",
       "    .dataframe tbody tr th {\n",
       "        vertical-align: top;\n",
       "    }\n",
       "\n",
       "    .dataframe thead th {\n",
       "        text-align: right;\n",
       "    }\n",
       "</style>\n",
       "<table border=\"1\" class=\"dataframe\">\n",
       "  <thead>\n",
       "    <tr style=\"text-align: right;\">\n",
       "      <th></th>\n",
       "      <th>productAsin</th>\n",
       "      <th>country</th>\n",
       "      <th>date</th>\n",
       "      <th>isVerified</th>\n",
       "      <th>ratingScore</th>\n",
       "      <th>reviewTitle</th>\n",
       "      <th>reviewDescription</th>\n",
       "      <th>reviewUrl</th>\n",
       "      <th>reviewedIn</th>\n",
       "      <th>variant</th>\n",
       "      <th>variantAsin</th>\n",
       "    </tr>\n",
       "  </thead>\n",
       "  <tbody>\n",
       "    <tr>\n",
       "      <th>0</th>\n",
       "      <td>B09G9BL5CP</td>\n",
       "      <td>India</td>\n",
       "      <td>11-08-2024</td>\n",
       "      <td>True</td>\n",
       "      <td>4</td>\n",
       "      <td>No charger</td>\n",
       "      <td>Every thing is good about iPhones, there's not...</td>\n",
       "      <td>https://www.amazon.in/gp/customer-reviews/R345...</td>\n",
       "      <td>Reviewed in India on 11 August 2024</td>\n",
       "      <td>Colour: MidnightSize: 256 GB</td>\n",
       "      <td>B09G9BQS98</td>\n",
       "    </tr>\n",
       "    <tr>\n",
       "      <th>1</th>\n",
       "      <td>B09G9BL5CP</td>\n",
       "      <td>India</td>\n",
       "      <td>16-08-2024</td>\n",
       "      <td>True</td>\n",
       "      <td>5</td>\n",
       "      <td>iPhone 13 256GB</td>\n",
       "      <td>It look so fabulous, I am android user switche...</td>\n",
       "      <td>https://www.amazon.in/gp/customer-reviews/R2HJ...</td>\n",
       "      <td>Reviewed in India on 16 August 2024</td>\n",
       "      <td>Colour: MidnightSize: 256 GB</td>\n",
       "      <td>B09G9BQS98</td>\n",
       "    </tr>\n",
       "    <tr>\n",
       "      <th>2</th>\n",
       "      <td>B09G9BL5CP</td>\n",
       "      <td>India</td>\n",
       "      <td>14-05-2024</td>\n",
       "      <td>True</td>\n",
       "      <td>4</td>\n",
       "      <td>Flip camera option nill</td>\n",
       "      <td>I tried to flip camera while recording but no ...</td>\n",
       "      <td>https://www.amazon.in/gp/customer-reviews/R3Y7...</td>\n",
       "      <td>Reviewed in India on 14 May 2024</td>\n",
       "      <td>Colour: MidnightSize: 256 GB</td>\n",
       "      <td>B09G9BQS98</td>\n",
       "    </tr>\n",
       "    <tr>\n",
       "      <th>3</th>\n",
       "      <td>B09G9BL5CP</td>\n",
       "      <td>India</td>\n",
       "      <td>24-06-2024</td>\n",
       "      <td>True</td>\n",
       "      <td>5</td>\n",
       "      <td>Product</td>\n",
       "      <td>100% genuine</td>\n",
       "      <td>https://www.amazon.in/gp/customer-reviews/R1P9...</td>\n",
       "      <td>Reviewed in India on 24 June 2024</td>\n",
       "      <td>Colour: MidnightSize: 256 GB</td>\n",
       "      <td>B09G9BQS98</td>\n",
       "    </tr>\n",
       "    <tr>\n",
       "      <th>4</th>\n",
       "      <td>B09G9BL5CP</td>\n",
       "      <td>India</td>\n",
       "      <td>18-05-2024</td>\n",
       "      <td>True</td>\n",
       "      <td>5</td>\n",
       "      <td>Good product</td>\n",
       "      <td>Happy to get the iPhone 13 in Amazon offer</td>\n",
       "      <td>https://www.amazon.in/gp/customer-reviews/R1XI...</td>\n",
       "      <td>Reviewed in India on 18 May 2024</td>\n",
       "      <td>Colour: MidnightSize: 256 GB</td>\n",
       "      <td>B09G9BQS98</td>\n",
       "    </tr>\n",
       "    <tr>\n",
       "      <th>...</th>\n",
       "      <td>...</td>\n",
       "      <td>...</td>\n",
       "      <td>...</td>\n",
       "      <td>...</td>\n",
       "      <td>...</td>\n",
       "      <td>...</td>\n",
       "      <td>...</td>\n",
       "      <td>...</td>\n",
       "      <td>...</td>\n",
       "      <td>...</td>\n",
       "      <td>...</td>\n",
       "    </tr>\n",
       "    <tr>\n",
       "      <th>3057</th>\n",
       "      <td>B09G9D8KRQ</td>\n",
       "      <td>India</td>\n",
       "      <td>11-10-2023</td>\n",
       "      <td>True</td>\n",
       "      <td>1</td>\n",
       "      <td>Very bad experience with i phone 13</td>\n",
       "      <td>Useless phon never buy this heat n useless cam...</td>\n",
       "      <td>https://www.amazon.in/gp/customer-reviews/R10O...</td>\n",
       "      <td>Reviewed in India on 11 October 2023</td>\n",
       "      <td>Colour: (PRODUCT) REDSize: 128 GB</td>\n",
       "      <td>B09G99CW2N</td>\n",
       "    </tr>\n",
       "    <tr>\n",
       "      <th>3058</th>\n",
       "      <td>B09G9D8KRQ</td>\n",
       "      <td>India</td>\n",
       "      <td>14-10-2022</td>\n",
       "      <td>True</td>\n",
       "      <td>2</td>\n",
       "      <td>not happy with this apple product</td>\n",
       "      <td>iam not happy with this product why because ch...</td>\n",
       "      <td>https://www.amazon.in/gp/customer-reviews/R2FW...</td>\n",
       "      <td>Reviewed in India on 14 October 2022</td>\n",
       "      <td>Colour: (PRODUCT) REDSize: 128 GB</td>\n",
       "      <td>B09G99CW2N</td>\n",
       "    </tr>\n",
       "    <tr>\n",
       "      <th>3059</th>\n",
       "      <td>B09G9D8KRQ</td>\n",
       "      <td>India</td>\n",
       "      <td>24-02-2022</td>\n",
       "      <td>True</td>\n",
       "      <td>3</td>\n",
       "      <td>Good phone</td>\n",
       "      <td>Good phone</td>\n",
       "      <td>https://www.amazon.in/gp/customer-reviews/R2C7...</td>\n",
       "      <td>Reviewed in India on 24 February 2022</td>\n",
       "      <td>Colour: (PRODUCT) REDSize: 128 GB</td>\n",
       "      <td>B09G99CW2N</td>\n",
       "    </tr>\n",
       "    <tr>\n",
       "      <th>3060</th>\n",
       "      <td>B09G9D8KRQ</td>\n",
       "      <td>India</td>\n",
       "      <td>16-10-2023</td>\n",
       "      <td>True</td>\n",
       "      <td>1</td>\n",
       "      <td>Battery discharge</td>\n",
       "      <td>While charging mobile it's getting so hot even...</td>\n",
       "      <td>https://www.amazon.in/gp/customer-reviews/R3K0...</td>\n",
       "      <td>Reviewed in India on 16 October 2023</td>\n",
       "      <td>Colour: (PRODUCT) REDSize: 128 GB</td>\n",
       "      <td>B09G99CW2N</td>\n",
       "    </tr>\n",
       "    <tr>\n",
       "      <th>3061</th>\n",
       "      <td>B09G9D8KRQ</td>\n",
       "      <td>India</td>\n",
       "      <td>11-11-2023</td>\n",
       "      <td>True</td>\n",
       "      <td>1</td>\n",
       "      <td>Batter power needs to be improved</td>\n",
       "      <td>Battery power is be very bad need to chat on d...</td>\n",
       "      <td>https://www.amazon.in/gp/customer-reviews/R2QO...</td>\n",
       "      <td>Reviewed in India on 11 November 2023</td>\n",
       "      <td>Colour: (PRODUCT) REDSize: 128 GB</td>\n",
       "      <td>B09G99CW2N</td>\n",
       "    </tr>\n",
       "  </tbody>\n",
       "</table>\n",
       "<p>3062 rows × 11 columns</p>\n",
       "</div>"
      ],
      "text/plain": [
       "     productAsin country        date  isVerified  ratingScore  \\\n",
       "0     B09G9BL5CP   India  11-08-2024        True            4   \n",
       "1     B09G9BL5CP   India  16-08-2024        True            5   \n",
       "2     B09G9BL5CP   India  14-05-2024        True            4   \n",
       "3     B09G9BL5CP   India  24-06-2024        True            5   \n",
       "4     B09G9BL5CP   India  18-05-2024        True            5   \n",
       "...          ...     ...         ...         ...          ...   \n",
       "3057  B09G9D8KRQ   India  11-10-2023        True            1   \n",
       "3058  B09G9D8KRQ   India  14-10-2022        True            2   \n",
       "3059  B09G9D8KRQ   India  24-02-2022        True            3   \n",
       "3060  B09G9D8KRQ   India  16-10-2023        True            1   \n",
       "3061  B09G9D8KRQ   India  11-11-2023        True            1   \n",
       "\n",
       "                              reviewTitle  \\\n",
       "0                              No charger   \n",
       "1                         iPhone 13 256GB   \n",
       "2                 Flip camera option nill   \n",
       "3                                 Product   \n",
       "4                            Good product   \n",
       "...                                   ...   \n",
       "3057  Very bad experience with i phone 13   \n",
       "3058    not happy with this apple product   \n",
       "3059                           Good phone   \n",
       "3060                    Battery discharge   \n",
       "3061    Batter power needs to be improved   \n",
       "\n",
       "                                      reviewDescription  \\\n",
       "0     Every thing is good about iPhones, there's not...   \n",
       "1     It look so fabulous, I am android user switche...   \n",
       "2     I tried to flip camera while recording but no ...   \n",
       "3                                          100% genuine   \n",
       "4            Happy to get the iPhone 13 in Amazon offer   \n",
       "...                                                 ...   \n",
       "3057  Useless phon never buy this heat n useless cam...   \n",
       "3058  iam not happy with this product why because ch...   \n",
       "3059                                         Good phone   \n",
       "3060  While charging mobile it's getting so hot even...   \n",
       "3061  Battery power is be very bad need to chat on d...   \n",
       "\n",
       "                                              reviewUrl  \\\n",
       "0     https://www.amazon.in/gp/customer-reviews/R345...   \n",
       "1     https://www.amazon.in/gp/customer-reviews/R2HJ...   \n",
       "2     https://www.amazon.in/gp/customer-reviews/R3Y7...   \n",
       "3     https://www.amazon.in/gp/customer-reviews/R1P9...   \n",
       "4     https://www.amazon.in/gp/customer-reviews/R1XI...   \n",
       "...                                                 ...   \n",
       "3057  https://www.amazon.in/gp/customer-reviews/R10O...   \n",
       "3058  https://www.amazon.in/gp/customer-reviews/R2FW...   \n",
       "3059  https://www.amazon.in/gp/customer-reviews/R2C7...   \n",
       "3060  https://www.amazon.in/gp/customer-reviews/R3K0...   \n",
       "3061  https://www.amazon.in/gp/customer-reviews/R2QO...   \n",
       "\n",
       "                                 reviewedIn  \\\n",
       "0       Reviewed in India on 11 August 2024   \n",
       "1       Reviewed in India on 16 August 2024   \n",
       "2          Reviewed in India on 14 May 2024   \n",
       "3         Reviewed in India on 24 June 2024   \n",
       "4          Reviewed in India on 18 May 2024   \n",
       "...                                     ...   \n",
       "3057   Reviewed in India on 11 October 2023   \n",
       "3058   Reviewed in India on 14 October 2022   \n",
       "3059  Reviewed in India on 24 February 2022   \n",
       "3060   Reviewed in India on 16 October 2023   \n",
       "3061  Reviewed in India on 11 November 2023   \n",
       "\n",
       "                                variant variantAsin  \n",
       "0          Colour: MidnightSize: 256 GB  B09G9BQS98  \n",
       "1          Colour: MidnightSize: 256 GB  B09G9BQS98  \n",
       "2          Colour: MidnightSize: 256 GB  B09G9BQS98  \n",
       "3          Colour: MidnightSize: 256 GB  B09G9BQS98  \n",
       "4          Colour: MidnightSize: 256 GB  B09G9BQS98  \n",
       "...                                 ...         ...  \n",
       "3057  Colour: (PRODUCT) REDSize: 128 GB  B09G99CW2N  \n",
       "3058  Colour: (PRODUCT) REDSize: 128 GB  B09G99CW2N  \n",
       "3059  Colour: (PRODUCT) REDSize: 128 GB  B09G99CW2N  \n",
       "3060  Colour: (PRODUCT) REDSize: 128 GB  B09G99CW2N  \n",
       "3061  Colour: (PRODUCT) REDSize: 128 GB  B09G99CW2N  \n",
       "\n",
       "[3062 rows x 11 columns]"
      ]
     },
     "execution_count": 4,
     "metadata": {},
     "output_type": "execute_result"
    }
   ],
   "source": [
    "df"
   ]
  },
  {
   "cell_type": "code",
   "execution_count": 5,
   "metadata": {},
   "outputs": [
    {
     "name": "stdout",
     "output_type": "stream",
     "text": [
      "<class 'pandas.core.frame.DataFrame'>\n",
      "RangeIndex: 3062 entries, 0 to 3061\n",
      "Data columns (total 11 columns):\n",
      " #   Column             Non-Null Count  Dtype \n",
      "---  ------             --------------  ----- \n",
      " 0   productAsin        3062 non-null   object\n",
      " 1   country            3062 non-null   object\n",
      " 2   date               3062 non-null   object\n",
      " 3   isVerified         3062 non-null   bool  \n",
      " 4   ratingScore        3062 non-null   int64 \n",
      " 5   reviewTitle        3062 non-null   object\n",
      " 6   reviewDescription  2976 non-null   object\n",
      " 7   reviewUrl          3046 non-null   object\n",
      " 8   reviewedIn         3062 non-null   object\n",
      " 9   variant            3062 non-null   object\n",
      " 10  variantAsin        3062 non-null   object\n",
      "dtypes: bool(1), int64(1), object(9)\n",
      "memory usage: 242.3+ KB\n"
     ]
    }
   ],
   "source": [
    "df.info()"
   ]
  },
  {
   "cell_type": "code",
   "execution_count": 6,
   "metadata": {},
   "outputs": [
    {
     "data": {
      "text/plain": [
       "productAsin           0\n",
       "country               0\n",
       "date                  0\n",
       "isVerified            0\n",
       "ratingScore           0\n",
       "reviewTitle           0\n",
       "reviewDescription    86\n",
       "reviewUrl            16\n",
       "reviewedIn            0\n",
       "variant               0\n",
       "variantAsin           0\n",
       "dtype: int64"
      ]
     },
     "execution_count": 6,
     "metadata": {},
     "output_type": "execute_result"
    }
   ],
   "source": [
    "df.isnull().sum()"
   ]
  },
  {
   "cell_type": "code",
   "execution_count": 7,
   "metadata": {},
   "outputs": [],
   "source": [
    "df[['reviewDescription','reviewUrl']]=df[['reviewDescription','reviewUrl']].fillna('Unknown',inplace=False)"
   ]
  },
  {
   "cell_type": "code",
   "execution_count": 9,
   "metadata": {},
   "outputs": [
    {
     "data": {
      "text/plain": [
       "productAsin          0\n",
       "country              0\n",
       "date                 0\n",
       "isVerified           0\n",
       "ratingScore          0\n",
       "reviewTitle          0\n",
       "reviewDescription    0\n",
       "reviewUrl            0\n",
       "reviewedIn           0\n",
       "variant              0\n",
       "variantAsin          0\n",
       "dtype: int64"
      ]
     },
     "execution_count": 9,
     "metadata": {},
     "output_type": "execute_result"
    }
   ],
   "source": [
    "df.isna().sum()"
   ]
  },
  {
   "cell_type": "code",
   "execution_count": 10,
   "metadata": {},
   "outputs": [
    {
     "data": {
      "text/plain": [
       "0"
      ]
     },
     "execution_count": 10,
     "metadata": {},
     "output_type": "execute_result"
    }
   ],
   "source": [
    "df.duplicated().sum()"
   ]
  },
  {
   "cell_type": "code",
   "execution_count": 11,
   "metadata": {},
   "outputs": [
    {
     "data": {
      "text/html": [
       "<pre style=\"white-space:pre;overflow-x:auto;line-height:normal;font-family:Menlo,'DejaVu Sans Mono',consolas,'Courier New',monospace\">╭──────────────────────────────────────────────── skimpy summary ─────────────────────────────────────────────────╮\n",
       "│ <span style=\"font-style: italic\">         Data Summary         </span> <span style=\"font-style: italic\">      Data Types       </span>                                                          │\n",
       "│ ┏━━━━━━━━━━━━━━━━━━━┳━━━━━━━━┓ ┏━━━━━━━━━━━━━┳━━━━━━━┓                                                          │\n",
       "│ ┃<span style=\"color: #008080; text-decoration-color: #008080; font-weight: bold\"> dataframe         </span>┃<span style=\"color: #008080; text-decoration-color: #008080; font-weight: bold\"> Values </span>┃ ┃<span style=\"color: #008080; text-decoration-color: #008080; font-weight: bold\"> Column Type </span>┃<span style=\"color: #008080; text-decoration-color: #008080; font-weight: bold\"> Count </span>┃                                                          │\n",
       "│ ┡━━━━━━━━━━━━━━━━━━━╇━━━━━━━━┩ ┡━━━━━━━━━━━━━╇━━━━━━━┩                                                          │\n",
       "│ │ Number of rows    │ 3062   │ │ string      │ 9     │                                                          │\n",
       "│ │ Number of columns │ 11     │ │ bool        │ 1     │                                                          │\n",
       "│ └───────────────────┴────────┘ │ int32       │ 1     │                                                          │\n",
       "│                                └─────────────┴───────┘                                                          │\n",
       "│ <span style=\"font-style: italic\">                                                    number                                                    </span>  │\n",
       "│ ┏━━━━━━━━━━━━━━━━━━━┳━━━━━━┳━━━━━━━━━┳━━━━━━━━━━┳━━━━━━━━━━┳━━━━━━┳━━━━━━━┳━━━━━━━┳━━━━━━━┳━━━━━━━━┳━━━━━━━━━┓  │\n",
       "│ ┃<span style=\"font-weight: bold\"> column_name       </span>┃<span style=\"font-weight: bold\"> NA   </span>┃<span style=\"font-weight: bold\"> NA %    </span>┃<span style=\"font-weight: bold\"> mean     </span>┃<span style=\"font-weight: bold\"> sd       </span>┃<span style=\"font-weight: bold\"> p0   </span>┃<span style=\"font-weight: bold\"> p25   </span>┃<span style=\"font-weight: bold\"> p50   </span>┃<span style=\"font-weight: bold\"> p75   </span>┃<span style=\"font-weight: bold\"> p100   </span>┃<span style=\"font-weight: bold\"> hist    </span>┃  │\n",
       "│ ┡━━━━━━━━━━━━━━━━━━━╇━━━━━━╇━━━━━━━━━╇━━━━━━━━━━╇━━━━━━━━━━╇━━━━━━╇━━━━━━━╇━━━━━━━╇━━━━━━━╇━━━━━━━━╇━━━━━━━━━┩  │\n",
       "│ │ <span style=\"color: #af87ff; text-decoration-color: #af87ff\">ratingScore      </span> │ <span style=\"color: #008080; text-decoration-color: #008080\">   0</span> │ <span style=\"color: #008080; text-decoration-color: #008080\">      0</span> │ <span style=\"color: #008080; text-decoration-color: #008080\">   3.759</span> │ <span style=\"color: #008080; text-decoration-color: #008080\">   1.579</span> │ <span style=\"color: #008080; text-decoration-color: #008080\">   1</span> │ <span style=\"color: #008080; text-decoration-color: #008080\">    3</span> │ <span style=\"color: #008080; text-decoration-color: #008080\">    5</span> │ <span style=\"color: #008080; text-decoration-color: #008080\">    5</span> │ <span style=\"color: #008080; text-decoration-color: #008080\">     5</span> │ <span style=\"color: #008000; text-decoration-color: #008000\">▃▁ ▁▂▇ </span> │  │\n",
       "│ └───────────────────┴──────┴─────────┴──────────┴──────────┴──────┴───────┴───────┴───────┴────────┴─────────┘  │\n",
       "│ <span style=\"font-style: italic\">                                                     bool                                                     </span>  │\n",
       "│ ┏━━━━━━━━━━━━━━━━━━━━━━━━━━━━━━━━━━━━┳━━━━━━━━━━━━━━━━━┳━━━━━━━━━━━━━━━━━━━━━━━━━━━━━━━┳━━━━━━━━━━━━━━━━━━━━━┓  │\n",
       "│ ┃<span style=\"font-weight: bold\"> column_name                        </span>┃<span style=\"font-weight: bold\"> true            </span>┃<span style=\"font-weight: bold\"> true rate                     </span>┃<span style=\"font-weight: bold\"> hist                </span>┃  │\n",
       "│ ┡━━━━━━━━━━━━━━━━━━━━━━━━━━━━━━━━━━━━╇━━━━━━━━━━━━━━━━━╇━━━━━━━━━━━━━━━━━━━━━━━━━━━━━━━╇━━━━━━━━━━━━━━━━━━━━━┩  │\n",
       "│ │ <span style=\"color: #af87ff; text-decoration-color: #af87ff\">isVerified                        </span> │ <span style=\"color: #008080; text-decoration-color: #008080\">           2850</span> │ <span style=\"color: #008080; text-decoration-color: #008080\">                         0.93</span> │ <span style=\"color: #008000; text-decoration-color: #008000\">      ▁    ▇       </span> │  │\n",
       "│ └────────────────────────────────────┴─────────────────┴───────────────────────────────┴─────────────────────┘  │\n",
       "│ <span style=\"font-style: italic\">                                                    string                                                    </span>  │\n",
       "│ ┏━━━━━━━━━━━━━━━━━━━━━━━━━━━━━━━━━━━┳━━━━━━━━┳━━━━━━━━━━━┳━━━━━━━━━━━━━━━━━━━━━━━━━━━┳━━━━━━━━━━━━━━━━━━━━━━━┓  │\n",
       "│ ┃<span style=\"font-weight: bold\"> column_name                       </span>┃<span style=\"font-weight: bold\"> NA     </span>┃<span style=\"font-weight: bold\"> NA %      </span>┃<span style=\"font-weight: bold\"> words per row             </span>┃<span style=\"font-weight: bold\"> total words           </span>┃  │\n",
       "│ ┡━━━━━━━━━━━━━━━━━━━━━━━━━━━━━━━━━━━╇━━━━━━━━╇━━━━━━━━━━━╇━━━━━━━━━━━━━━━━━━━━━━━━━━━╇━━━━━━━━━━━━━━━━━━━━━━━┩  │\n",
       "│ │ <span style=\"color: #af87ff; text-decoration-color: #af87ff\">productAsin                      </span> │ <span style=\"color: #008080; text-decoration-color: #008080\">     0</span> │ <span style=\"color: #008080; text-decoration-color: #008080\">        0</span> │ <span style=\"color: #008080; text-decoration-color: #008080\">                        1</span> │ <span style=\"color: #008080; text-decoration-color: #008080\">                 3062</span> │  │\n",
       "│ │ <span style=\"color: #af87ff; text-decoration-color: #af87ff\">country                          </span> │ <span style=\"color: #008080; text-decoration-color: #008080\">     0</span> │ <span style=\"color: #008080; text-decoration-color: #008080\">        0</span> │ <span style=\"color: #008080; text-decoration-color: #008080\">                      1.2</span> │ <span style=\"color: #008080; text-decoration-color: #008080\">                 3801</span> │  │\n",
       "│ │ <span style=\"color: #af87ff; text-decoration-color: #af87ff\">date                             </span> │ <span style=\"color: #008080; text-decoration-color: #008080\">     0</span> │ <span style=\"color: #008080; text-decoration-color: #008080\">        0</span> │ <span style=\"color: #008080; text-decoration-color: #008080\">                        1</span> │ <span style=\"color: #008080; text-decoration-color: #008080\">                 3062</span> │  │\n",
       "│ │ <span style=\"color: #af87ff; text-decoration-color: #af87ff\">reviewTitle                      </span> │ <span style=\"color: #008080; text-decoration-color: #008080\">     0</span> │ <span style=\"color: #008080; text-decoration-color: #008080\">        0</span> │ <span style=\"color: #008080; text-decoration-color: #008080\">                      3.8</span> │ <span style=\"color: #008080; text-decoration-color: #008080\">                11638</span> │  │\n",
       "│ │ <span style=\"color: #af87ff; text-decoration-color: #af87ff\">reviewDescription                </span> │ <span style=\"color: #008080; text-decoration-color: #008080\">     0</span> │ <span style=\"color: #008080; text-decoration-color: #008080\">        0</span> │ <span style=\"color: #008080; text-decoration-color: #008080\">                       36</span> │ <span style=\"color: #008080; text-decoration-color: #008080\">               108775</span> │  │\n",
       "│ │ <span style=\"color: #af87ff; text-decoration-color: #af87ff\">reviewUrl                        </span> │ <span style=\"color: #008080; text-decoration-color: #008080\">     0</span> │ <span style=\"color: #008080; text-decoration-color: #008080\">        0</span> │ <span style=\"color: #008080; text-decoration-color: #008080\">                        1</span> │ <span style=\"color: #008080; text-decoration-color: #008080\">                 3062</span> │  │\n",
       "│ │ <span style=\"color: #af87ff; text-decoration-color: #af87ff\">reviewedIn                       </span> │ <span style=\"color: #008080; text-decoration-color: #008080\">     0</span> │ <span style=\"color: #008080; text-decoration-color: #008080\">        0</span> │ <span style=\"color: #008080; text-decoration-color: #008080\">                      7.5</span> │ <span style=\"color: #008080; text-decoration-color: #008080\">                22832</span> │  │\n",
       "│ │ <span style=\"color: #af87ff; text-decoration-color: #af87ff\">variant                          </span> │ <span style=\"color: #008080; text-decoration-color: #008080\">     0</span> │ <span style=\"color: #008080; text-decoration-color: #008080\">        0</span> │ <span style=\"color: #008080; text-decoration-color: #008080\">                      4.3</span> │ <span style=\"color: #008080; text-decoration-color: #008080\">                13022</span> │  │\n",
       "│ │ <span style=\"color: #af87ff; text-decoration-color: #af87ff\">variantAsin                      </span> │ <span style=\"color: #008080; text-decoration-color: #008080\">     0</span> │ <span style=\"color: #008080; text-decoration-color: #008080\">        0</span> │ <span style=\"color: #008080; text-decoration-color: #008080\">                        1</span> │ <span style=\"color: #008080; text-decoration-color: #008080\">                 3062</span> │  │\n",
       "│ └───────────────────────────────────┴────────┴───────────┴───────────────────────────┴───────────────────────┘  │\n",
       "╰────────────────────────────────────────────────────── End ──────────────────────────────────────────────────────╯\n",
       "</pre>\n"
      ],
      "text/plain": [
       "╭──────────────────────────────────────────────── skimpy summary ─────────────────────────────────────────────────╮\n",
       "│ \u001b[3m         Data Summary         \u001b[0m \u001b[3m      Data Types       \u001b[0m                                                          │\n",
       "│ ┏━━━━━━━━━━━━━━━━━━━┳━━━━━━━━┓ ┏━━━━━━━━━━━━━┳━━━━━━━┓                                                          │\n",
       "│ ┃\u001b[1;36m \u001b[0m\u001b[1;36mdataframe        \u001b[0m\u001b[1;36m \u001b[0m┃\u001b[1;36m \u001b[0m\u001b[1;36mValues\u001b[0m\u001b[1;36m \u001b[0m┃ ┃\u001b[1;36m \u001b[0m\u001b[1;36mColumn Type\u001b[0m\u001b[1;36m \u001b[0m┃\u001b[1;36m \u001b[0m\u001b[1;36mCount\u001b[0m\u001b[1;36m \u001b[0m┃                                                          │\n",
       "│ ┡━━━━━━━━━━━━━━━━━━━╇━━━━━━━━┩ ┡━━━━━━━━━━━━━╇━━━━━━━┩                                                          │\n",
       "│ │ Number of rows    │ 3062   │ │ string      │ 9     │                                                          │\n",
       "│ │ Number of columns │ 11     │ │ bool        │ 1     │                                                          │\n",
       "│ └───────────────────┴────────┘ │ int32       │ 1     │                                                          │\n",
       "│                                └─────────────┴───────┘                                                          │\n",
       "│ \u001b[3m                                                    number                                                    \u001b[0m  │\n",
       "│ ┏━━━━━━━━━━━━━━━━━━━┳━━━━━━┳━━━━━━━━━┳━━━━━━━━━━┳━━━━━━━━━━┳━━━━━━┳━━━━━━━┳━━━━━━━┳━━━━━━━┳━━━━━━━━┳━━━━━━━━━┓  │\n",
       "│ ┃\u001b[1m \u001b[0m\u001b[1mcolumn_name      \u001b[0m\u001b[1m \u001b[0m┃\u001b[1m \u001b[0m\u001b[1mNA  \u001b[0m\u001b[1m \u001b[0m┃\u001b[1m \u001b[0m\u001b[1mNA %   \u001b[0m\u001b[1m \u001b[0m┃\u001b[1m \u001b[0m\u001b[1mmean    \u001b[0m\u001b[1m \u001b[0m┃\u001b[1m \u001b[0m\u001b[1msd      \u001b[0m\u001b[1m \u001b[0m┃\u001b[1m \u001b[0m\u001b[1mp0  \u001b[0m\u001b[1m \u001b[0m┃\u001b[1m \u001b[0m\u001b[1mp25  \u001b[0m\u001b[1m \u001b[0m┃\u001b[1m \u001b[0m\u001b[1mp50  \u001b[0m\u001b[1m \u001b[0m┃\u001b[1m \u001b[0m\u001b[1mp75  \u001b[0m\u001b[1m \u001b[0m┃\u001b[1m \u001b[0m\u001b[1mp100  \u001b[0m\u001b[1m \u001b[0m┃\u001b[1m \u001b[0m\u001b[1mhist   \u001b[0m\u001b[1m \u001b[0m┃  │\n",
       "│ ┡━━━━━━━━━━━━━━━━━━━╇━━━━━━╇━━━━━━━━━╇━━━━━━━━━━╇━━━━━━━━━━╇━━━━━━╇━━━━━━━╇━━━━━━━╇━━━━━━━╇━━━━━━━━╇━━━━━━━━━┩  │\n",
       "│ │ \u001b[38;5;141mratingScore      \u001b[0m │ \u001b[36m   0\u001b[0m │ \u001b[36m      0\u001b[0m │ \u001b[36m   3.759\u001b[0m │ \u001b[36m   1.579\u001b[0m │ \u001b[36m   1\u001b[0m │ \u001b[36m    3\u001b[0m │ \u001b[36m    5\u001b[0m │ \u001b[36m    5\u001b[0m │ \u001b[36m     5\u001b[0m │ \u001b[32m▃▁ ▁▂▇ \u001b[0m │  │\n",
       "│ └───────────────────┴──────┴─────────┴──────────┴──────────┴──────┴───────┴───────┴───────┴────────┴─────────┘  │\n",
       "│ \u001b[3m                                                     bool                                                     \u001b[0m  │\n",
       "│ ┏━━━━━━━━━━━━━━━━━━━━━━━━━━━━━━━━━━━━┳━━━━━━━━━━━━━━━━━┳━━━━━━━━━━━━━━━━━━━━━━━━━━━━━━━┳━━━━━━━━━━━━━━━━━━━━━┓  │\n",
       "│ ┃\u001b[1m \u001b[0m\u001b[1mcolumn_name                       \u001b[0m\u001b[1m \u001b[0m┃\u001b[1m \u001b[0m\u001b[1mtrue           \u001b[0m\u001b[1m \u001b[0m┃\u001b[1m \u001b[0m\u001b[1mtrue rate                    \u001b[0m\u001b[1m \u001b[0m┃\u001b[1m \u001b[0m\u001b[1mhist               \u001b[0m\u001b[1m \u001b[0m┃  │\n",
       "│ ┡━━━━━━━━━━━━━━━━━━━━━━━━━━━━━━━━━━━━╇━━━━━━━━━━━━━━━━━╇━━━━━━━━━━━━━━━━━━━━━━━━━━━━━━━╇━━━━━━━━━━━━━━━━━━━━━┩  │\n",
       "│ │ \u001b[38;5;141misVerified                        \u001b[0m │ \u001b[36m           2850\u001b[0m │ \u001b[36m                         0.93\u001b[0m │ \u001b[32m      ▁    ▇       \u001b[0m │  │\n",
       "│ └────────────────────────────────────┴─────────────────┴───────────────────────────────┴─────────────────────┘  │\n",
       "│ \u001b[3m                                                    string                                                    \u001b[0m  │\n",
       "│ ┏━━━━━━━━━━━━━━━━━━━━━━━━━━━━━━━━━━━┳━━━━━━━━┳━━━━━━━━━━━┳━━━━━━━━━━━━━━━━━━━━━━━━━━━┳━━━━━━━━━━━━━━━━━━━━━━━┓  │\n",
       "│ ┃\u001b[1m \u001b[0m\u001b[1mcolumn_name                      \u001b[0m\u001b[1m \u001b[0m┃\u001b[1m \u001b[0m\u001b[1mNA    \u001b[0m\u001b[1m \u001b[0m┃\u001b[1m \u001b[0m\u001b[1mNA %     \u001b[0m\u001b[1m \u001b[0m┃\u001b[1m \u001b[0m\u001b[1mwords per row            \u001b[0m\u001b[1m \u001b[0m┃\u001b[1m \u001b[0m\u001b[1mtotal words          \u001b[0m\u001b[1m \u001b[0m┃  │\n",
       "│ ┡━━━━━━━━━━━━━━━━━━━━━━━━━━━━━━━━━━━╇━━━━━━━━╇━━━━━━━━━━━╇━━━━━━━━━━━━━━━━━━━━━━━━━━━╇━━━━━━━━━━━━━━━━━━━━━━━┩  │\n",
       "│ │ \u001b[38;5;141mproductAsin                      \u001b[0m │ \u001b[36m     0\u001b[0m │ \u001b[36m        0\u001b[0m │ \u001b[36m                        1\u001b[0m │ \u001b[36m                 3062\u001b[0m │  │\n",
       "│ │ \u001b[38;5;141mcountry                          \u001b[0m │ \u001b[36m     0\u001b[0m │ \u001b[36m        0\u001b[0m │ \u001b[36m                      1.2\u001b[0m │ \u001b[36m                 3801\u001b[0m │  │\n",
       "│ │ \u001b[38;5;141mdate                             \u001b[0m │ \u001b[36m     0\u001b[0m │ \u001b[36m        0\u001b[0m │ \u001b[36m                        1\u001b[0m │ \u001b[36m                 3062\u001b[0m │  │\n",
       "│ │ \u001b[38;5;141mreviewTitle                      \u001b[0m │ \u001b[36m     0\u001b[0m │ \u001b[36m        0\u001b[0m │ \u001b[36m                      3.8\u001b[0m │ \u001b[36m                11638\u001b[0m │  │\n",
       "│ │ \u001b[38;5;141mreviewDescription                \u001b[0m │ \u001b[36m     0\u001b[0m │ \u001b[36m        0\u001b[0m │ \u001b[36m                       36\u001b[0m │ \u001b[36m               108775\u001b[0m │  │\n",
       "│ │ \u001b[38;5;141mreviewUrl                        \u001b[0m │ \u001b[36m     0\u001b[0m │ \u001b[36m        0\u001b[0m │ \u001b[36m                        1\u001b[0m │ \u001b[36m                 3062\u001b[0m │  │\n",
       "│ │ \u001b[38;5;141mreviewedIn                       \u001b[0m │ \u001b[36m     0\u001b[0m │ \u001b[36m        0\u001b[0m │ \u001b[36m                      7.5\u001b[0m │ \u001b[36m                22832\u001b[0m │  │\n",
       "│ │ \u001b[38;5;141mvariant                          \u001b[0m │ \u001b[36m     0\u001b[0m │ \u001b[36m        0\u001b[0m │ \u001b[36m                      4.3\u001b[0m │ \u001b[36m                13022\u001b[0m │  │\n",
       "│ │ \u001b[38;5;141mvariantAsin                      \u001b[0m │ \u001b[36m     0\u001b[0m │ \u001b[36m        0\u001b[0m │ \u001b[36m                        1\u001b[0m │ \u001b[36m                 3062\u001b[0m │  │\n",
       "│ └───────────────────────────────────┴────────┴───────────┴───────────────────────────┴───────────────────────┘  │\n",
       "╰────────────────────────────────────────────────────── End ──────────────────────────────────────────────────────╯\n"
      ]
     },
     "metadata": {},
     "output_type": "display_data"
    }
   ],
   "source": [
    "skim(df)"
   ]
  },
  {
   "cell_type": "markdown",
   "metadata": {},
   "source": [
    "Data Cleaning"
   ]
  },
  {
   "cell_type": "markdown",
   "metadata": {},
   "source": [
    " Identifying Outliers Using Z-Score"
   ]
  },
  {
   "cell_type": "code",
   "execution_count": 13,
   "metadata": {},
   "outputs": [
    {
     "name": "stdout",
     "output_type": "stream",
     "text": [
      "Empty DataFrame\n",
      "Columns: [productAsin, country, date, isVerified, ratingScore, reviewTitle, reviewDescription, reviewUrl, reviewedIn, variant, variantAsin]\n",
      "Index: []\n"
     ]
    }
   ],
   "source": [
    "from scipy import stats\n",
    "\n",
    "z_scores=stats.zscore(df.select_dtypes('Float64','int64'))\n",
    "\n",
    "df_outliers = df[(z_scores > 3).any(axis=1) | (z_scores < -3).any(axis=1)]\n",
    "print(df_outliers)"
   ]
  },
  {
   "cell_type": "code",
   "execution_count": 14,
   "metadata": {},
   "outputs": [],
   "source": [
    "df_no_outliers = df[(z_scores < 3).all(axis=1) & (z_scores > -3).all(axis=1)]"
   ]
  },
  {
   "cell_type": "markdown",
   "metadata": {},
   "source": [
    "EDA"
   ]
  },
  {
   "cell_type": "code",
   "execution_count": 16,
   "metadata": {},
   "outputs": [
    {
     "data": {
      "application/vnd.plotly.v1+json": {
       "config": {
        "plotlyServerURL": "https://plot.ly"
       },
       "data": [
        {
         "alignmentgroup": "True",
         "bingroup": "x",
         "hovertemplate": "ratingScore=%{x}<br>count=%{y}<extra></extra>",
         "legendgroup": "",
         "marker": {
          "color": "#636efa",
          "pattern": {
           "shape": ""
          }
         },
         "name": "",
         "nbinsx": 5,
         "offsetgroup": "",
         "orientation": "v",
         "showlegend": false,
         "type": "histogram",
         "x": [
          4,
          5,
          4,
          5,
          5,
          5,
          5,
          5,
          4,
          5,
          5,
          5,
          5,
          5,
          4,
          5,
          3,
          5,
          5,
          2,
          5,
          3,
          3,
          2,
          5,
          5,
          4,
          5,
          4,
          5,
          4,
          4,
          5,
          5,
          5,
          5,
          2,
          4,
          5,
          3,
          4,
          5,
          5,
          5,
          5,
          3,
          5,
          3,
          4,
          5,
          4,
          4,
          3,
          4,
          3,
          5,
          5,
          5,
          5,
          5,
          4,
          5,
          5,
          5,
          5,
          5,
          4,
          5,
          3,
          5,
          5,
          5,
          5,
          5,
          5,
          5,
          4,
          5,
          5,
          4,
          5,
          4,
          5,
          5,
          5,
          5,
          4,
          5,
          5,
          5,
          5,
          5,
          5,
          5,
          5,
          5,
          5,
          5,
          5,
          5,
          5,
          5,
          2,
          5,
          2,
          4,
          5,
          5,
          5,
          5,
          5,
          4,
          4,
          5,
          5,
          5,
          5,
          5,
          5,
          5,
          5,
          5,
          5,
          4,
          4,
          4,
          4,
          4,
          4,
          5,
          1,
          1,
          1,
          5,
          5,
          5,
          2,
          5,
          5,
          5,
          5,
          5,
          5,
          5,
          5,
          4,
          5,
          5,
          5,
          5,
          5,
          5,
          5,
          5,
          5,
          2,
          5,
          5,
          5,
          5,
          5,
          5,
          5,
          5,
          2,
          5,
          3,
          5,
          5,
          1,
          5,
          4,
          4,
          5,
          4,
          5,
          5,
          5,
          5,
          1,
          5,
          4,
          5,
          5,
          5,
          4,
          5,
          5,
          5,
          5,
          5,
          5,
          5,
          3,
          5,
          4,
          5,
          5,
          5,
          5,
          4,
          5,
          4,
          5,
          5,
          5,
          5,
          4,
          2,
          4,
          5,
          3,
          5,
          2,
          5,
          5,
          5,
          5,
          5,
          4,
          5,
          5,
          5,
          5,
          4,
          5,
          2,
          5,
          3,
          3,
          5,
          4,
          4,
          5,
          5,
          5,
          4,
          5,
          4,
          3,
          4,
          4,
          4,
          5,
          5,
          5,
          5,
          5,
          3,
          5,
          5,
          5,
          5,
          5,
          5,
          5,
          5,
          5,
          2,
          5,
          1,
          1,
          1,
          1,
          5,
          1,
          5,
          4,
          3,
          5,
          5,
          5,
          4,
          4,
          4,
          4,
          5,
          4,
          5,
          5,
          5,
          5,
          5,
          4,
          5,
          5,
          5,
          5,
          5,
          5,
          4,
          5,
          5,
          5,
          5,
          5,
          4,
          4,
          5,
          4,
          4,
          4,
          5,
          5,
          5,
          5,
          5,
          5,
          5,
          4,
          5,
          5,
          5,
          5,
          5,
          5,
          4,
          5,
          5,
          4,
          5,
          5,
          5,
          5,
          5,
          3,
          4,
          3,
          5,
          5,
          4,
          4,
          2,
          4,
          5,
          5,
          5,
          4,
          4,
          4,
          5,
          5,
          5,
          4,
          4,
          5,
          5,
          5,
          4,
          5,
          5,
          4,
          4,
          5,
          5,
          5,
          4,
          4,
          5,
          5,
          5,
          5,
          5,
          4,
          5,
          5,
          5,
          5,
          4,
          4,
          5,
          4,
          5,
          5,
          4,
          3,
          4,
          4,
          4,
          5,
          5,
          4,
          5,
          5,
          5,
          5,
          4,
          5,
          3,
          4,
          5,
          5,
          1,
          5,
          4,
          5,
          5,
          5,
          4,
          1,
          1,
          4,
          5,
          4,
          4,
          5,
          2,
          5,
          4,
          5,
          5,
          5,
          5,
          4,
          5,
          1,
          5,
          5,
          5,
          5,
          5,
          3,
          4,
          5,
          3,
          5,
          3,
          2,
          5,
          4,
          5,
          4,
          5,
          5,
          4,
          5,
          4,
          5,
          4,
          3,
          5,
          5,
          4,
          5,
          5,
          4,
          2,
          3,
          5,
          4,
          5,
          1,
          5,
          5,
          5,
          5,
          5,
          5,
          5,
          5,
          5,
          5,
          5,
          4,
          5,
          5,
          5,
          5,
          5,
          1,
          1,
          4,
          5,
          5,
          5,
          5,
          5,
          1,
          5,
          5,
          2,
          5,
          5,
          1,
          5,
          5,
          5,
          5,
          4,
          5,
          4,
          5,
          5,
          5,
          5,
          5,
          2,
          5,
          5,
          5,
          5,
          4,
          5,
          4,
          5,
          1,
          5,
          1,
          5,
          5,
          5,
          5,
          4,
          5,
          5,
          5,
          5,
          5,
          5,
          5,
          5,
          5,
          4,
          4,
          5,
          5,
          5,
          5,
          4,
          5,
          4,
          5,
          5,
          3,
          5,
          5,
          5,
          5,
          1,
          5,
          5,
          5,
          5,
          4,
          5,
          5,
          5,
          5,
          5,
          1,
          5,
          5,
          4,
          5,
          5,
          5,
          5,
          2,
          5,
          5,
          4,
          5,
          1,
          1,
          5,
          5,
          5,
          5,
          5,
          5,
          5,
          5,
          5,
          5,
          1,
          5,
          1,
          1,
          4,
          3,
          4,
          5,
          5,
          5,
          5,
          5,
          1,
          1,
          3,
          3,
          1,
          1,
          1,
          1,
          3,
          4,
          5,
          4,
          5,
          2,
          5,
          5,
          3,
          3,
          5,
          5,
          5,
          1,
          4,
          5,
          4,
          4,
          4,
          5,
          5,
          2,
          2,
          3,
          5,
          5,
          5,
          2,
          3,
          4,
          3,
          4,
          4,
          3,
          5,
          5,
          4,
          4,
          3,
          3,
          3,
          4,
          3,
          5,
          4,
          2,
          4,
          4,
          5,
          2,
          4,
          3,
          2,
          5,
          5,
          5,
          5,
          1,
          5,
          4,
          1,
          5,
          4,
          4,
          4,
          3,
          2,
          4,
          1,
          1,
          3,
          4,
          1,
          1,
          1,
          4,
          5,
          2,
          1,
          5,
          5,
          1,
          1,
          5,
          2,
          5,
          5,
          5,
          5,
          2,
          5,
          2,
          5,
          5,
          1,
          1,
          1,
          4,
          5,
          5,
          1,
          1,
          2,
          2,
          1,
          1,
          1,
          1,
          5,
          1,
          4,
          5,
          2,
          2,
          1,
          5,
          1,
          5,
          5,
          5,
          5,
          2,
          1,
          2,
          5,
          4,
          5,
          5,
          5,
          1,
          5,
          1,
          2,
          4,
          3,
          4,
          2,
          4,
          5,
          1,
          5,
          5,
          2,
          4,
          5,
          1,
          5,
          5,
          5,
          1,
          1,
          3,
          4,
          5,
          5,
          4,
          4,
          5,
          5,
          5,
          5,
          4,
          5,
          5,
          3,
          1,
          4,
          4,
          2,
          1,
          4,
          5,
          5,
          5,
          5,
          1,
          5,
          5,
          3,
          5,
          5,
          5,
          5,
          5,
          5,
          1,
          5,
          5,
          1,
          1,
          5,
          1,
          5,
          2,
          3,
          5,
          5,
          4,
          5,
          5,
          5,
          1,
          5,
          5,
          4,
          5,
          5,
          5,
          5,
          4,
          4,
          4,
          4,
          5,
          1,
          1,
          5,
          5,
          1,
          1,
          1,
          1,
          5,
          5,
          5,
          5,
          5,
          5,
          5,
          1,
          5,
          5,
          5,
          4,
          5,
          5,
          5,
          4,
          3,
          4,
          5,
          5,
          5,
          3,
          5,
          5,
          5,
          1,
          1,
          5,
          2,
          5,
          4,
          5,
          4,
          5,
          3,
          5,
          5,
          5,
          5,
          4,
          5,
          5,
          4,
          5,
          5,
          1,
          5,
          5,
          5,
          5,
          5,
          5,
          4,
          4,
          5,
          5,
          5,
          5,
          5,
          5,
          5,
          1,
          5,
          5,
          5,
          4,
          5,
          5,
          4,
          5,
          5,
          4,
          4,
          5,
          5,
          5,
          4,
          5,
          5,
          1,
          5,
          5,
          5,
          5,
          4,
          5,
          4,
          5,
          4,
          1,
          5,
          4,
          3,
          4,
          5,
          1,
          5,
          5,
          5,
          1,
          1,
          5,
          1,
          1,
          3,
          1,
          1,
          1,
          5,
          5,
          5,
          5,
          3,
          1,
          4,
          5,
          5,
          5,
          1,
          5,
          1,
          1,
          1,
          1,
          1,
          4,
          1,
          3,
          5,
          5,
          4,
          5,
          4,
          5,
          5,
          5,
          5,
          5,
          1,
          5,
          5,
          5,
          1,
          1,
          5,
          1,
          1,
          1,
          5,
          5,
          5,
          5,
          5,
          5,
          5,
          5,
          3,
          5,
          5,
          5,
          5,
          1,
          1,
          5,
          4,
          4,
          5,
          4,
          4,
          4,
          5,
          5,
          5,
          5,
          4,
          5,
          5,
          4,
          4,
          1,
          4,
          5,
          2,
          3,
          5,
          5,
          3,
          5,
          4,
          5,
          5,
          4,
          4,
          4,
          2,
          1,
          5,
          1,
          5,
          1,
          4,
          5,
          5,
          2,
          1,
          1,
          5,
          5,
          5,
          5,
          1,
          1,
          2,
          5,
          1,
          5,
          5,
          5,
          5,
          5,
          5,
          5,
          5,
          5,
          5,
          5,
          5,
          4,
          3,
          5,
          5,
          1,
          5,
          5,
          5,
          5,
          3,
          4,
          4,
          5,
          2,
          5,
          4,
          5,
          5,
          5,
          3,
          5,
          5,
          4,
          5,
          4,
          5,
          5,
          4,
          5,
          1,
          1,
          1,
          3,
          5,
          5,
          5,
          4,
          5,
          5,
          5,
          4,
          5,
          4,
          5,
          5,
          4,
          5,
          5,
          3,
          1,
          1,
          2,
          1,
          5,
          5,
          5,
          5,
          5,
          5,
          5,
          3,
          3,
          2,
          3,
          3,
          3,
          1,
          2,
          2,
          3,
          4,
          4,
          5,
          5,
          5,
          5,
          5,
          5,
          5,
          5,
          3,
          1,
          1,
          1,
          1,
          3,
          4,
          4,
          5,
          5,
          5,
          5,
          4,
          4,
          4,
          5,
          5,
          5,
          4,
          5,
          5,
          5,
          4,
          5,
          5,
          5,
          3,
          3,
          1,
          2,
          1,
          1,
          2,
          1,
          1,
          1,
          1,
          1,
          1,
          1,
          1,
          1,
          1,
          1,
          1,
          1,
          3,
          3,
          1,
          1,
          2,
          1,
          1,
          1,
          1,
          1,
          5,
          5,
          4,
          5,
          5,
          5,
          4,
          5,
          5,
          5,
          5,
          5,
          5,
          5,
          5,
          5,
          3,
          2,
          1,
          1,
          3,
          3,
          3,
          2,
          3,
          3,
          5,
          5,
          4,
          4,
          5,
          5,
          5,
          5,
          5,
          5,
          1,
          5,
          5,
          5,
          5,
          5,
          5,
          5,
          5,
          5,
          5,
          5,
          5,
          5,
          5,
          5,
          5,
          5,
          5,
          5,
          5,
          5,
          5,
          5,
          4,
          5,
          5,
          4,
          5,
          5,
          5,
          5,
          1,
          1,
          1,
          1,
          1,
          1,
          1,
          1,
          1,
          1,
          5,
          5,
          5,
          5,
          5,
          5,
          5,
          5,
          5,
          5,
          1,
          1,
          1,
          1,
          1,
          1,
          1,
          5,
          5,
          5,
          4,
          4,
          5,
          5,
          5,
          5,
          5,
          4,
          5,
          5,
          4,
          4,
          5,
          5,
          5,
          5,
          4,
          1,
          1,
          3,
          2,
          2,
          1,
          1,
          1,
          3,
          3,
          1,
          1,
          1,
          1,
          1,
          1,
          1,
          1,
          1,
          1,
          1,
          1,
          5,
          4,
          4,
          5,
          4,
          4,
          5,
          5,
          5,
          5,
          5,
          5,
          4,
          4,
          5,
          5,
          5,
          5,
          5,
          5,
          5,
          5,
          5,
          4,
          4,
          4,
          5,
          5,
          5,
          5,
          1,
          1,
          1,
          1,
          1,
          1,
          2,
          3,
          1,
          1,
          1,
          3,
          5,
          5,
          5,
          5,
          4,
          4,
          5,
          5,
          4,
          5,
          4,
          3,
          3,
          2,
          1,
          3,
          1,
          1,
          2,
          3,
          1,
          1,
          1,
          1,
          1,
          1,
          1,
          1,
          1,
          1,
          1,
          5,
          5,
          4,
          5,
          5,
          5,
          5,
          5,
          5,
          4,
          4,
          5,
          4,
          5,
          5,
          5,
          5,
          5,
          5,
          4,
          5,
          4,
          4,
          4,
          5,
          5,
          5,
          5,
          5,
          4,
          4,
          4,
          4,
          5,
          5,
          5,
          5,
          4,
          5,
          5,
          1,
          3,
          2,
          1,
          1,
          1,
          1,
          1,
          1,
          1,
          1,
          1,
          4,
          4,
          5,
          5,
          4,
          5,
          5,
          5,
          5,
          5,
          5,
          5,
          5,
          5,
          5,
          5,
          5,
          5,
          5,
          5,
          5,
          5,
          4,
          4,
          5,
          5,
          5,
          5,
          5,
          5,
          5,
          5,
          5,
          4,
          5,
          5,
          5,
          1,
          1,
          1,
          1,
          2,
          5,
          5,
          5,
          4,
          5,
          4,
          5,
          5,
          5,
          5,
          5,
          5,
          5,
          5,
          5,
          5,
          5,
          5,
          5,
          5,
          5,
          5,
          1,
          1,
          2,
          1,
          1,
          1,
          1,
          3,
          1,
          1,
          1,
          1,
          1,
          1,
          1,
          1,
          1,
          3,
          2,
          1,
          3,
          2,
          1,
          2,
          1,
          1,
          1,
          1,
          1,
          1,
          4,
          4,
          2,
          5,
          3,
          5,
          5,
          1,
          1,
          1,
          1,
          5,
          5,
          5,
          5,
          4,
          4,
          4,
          4,
          5,
          5,
          5,
          1,
          1,
          5,
          5,
          5,
          5,
          5,
          5,
          5,
          5,
          4,
          4,
          5,
          5,
          5,
          5,
          5,
          5,
          2,
          5,
          5,
          1,
          5,
          5,
          1,
          5,
          5,
          3,
          1,
          1,
          3,
          5,
          5,
          5,
          1,
          1,
          5,
          1,
          1,
          1,
          1,
          5,
          1,
          5,
          5,
          5,
          5,
          4,
          3,
          3,
          5,
          5,
          5,
          5,
          5,
          4,
          5,
          5,
          5,
          4,
          5,
          4,
          5,
          5,
          4,
          5,
          4,
          5,
          5,
          4,
          5,
          3,
          5,
          3,
          1,
          1,
          1,
          1,
          5,
          5,
          5,
          5,
          5,
          5,
          3,
          5,
          5,
          5,
          1,
          5,
          5,
          1,
          5,
          3,
          2,
          5,
          5,
          1,
          5,
          5,
          5,
          5,
          1,
          1,
          5,
          5,
          5,
          5,
          5,
          4,
          5,
          5,
          5,
          5,
          5,
          5,
          5,
          4,
          1,
          5,
          2,
          5,
          1,
          2,
          1,
          1,
          1,
          1,
          1,
          1,
          1,
          5,
          5,
          1,
          1,
          1,
          5,
          5,
          2,
          5,
          5,
          1,
          5,
          5,
          1,
          2,
          3,
          5,
          5,
          5,
          3,
          5,
          5,
          5,
          5,
          3,
          5,
          5,
          5,
          3,
          5,
          5,
          5,
          5,
          3,
          2,
          1,
          4,
          5,
          5,
          5,
          4,
          3,
          3,
          3,
          5,
          2,
          5,
          5,
          4,
          4,
          5,
          5,
          5,
          5,
          1,
          5,
          5,
          2,
          5,
          3,
          5,
          5,
          5,
          5,
          5,
          5,
          5,
          2,
          5,
          5,
          4,
          5,
          5,
          5,
          5,
          5,
          5,
          5,
          4,
          4,
          5,
          5,
          4,
          4,
          5,
          4,
          4,
          5,
          2,
          5,
          4,
          4,
          5,
          5,
          1,
          1,
          1,
          2,
          3,
          5,
          1,
          5,
          5,
          1,
          5,
          5,
          1,
          4,
          3,
          5,
          5,
          5,
          5,
          3,
          5,
          5,
          5,
          5,
          5,
          1,
          1,
          1,
          5,
          5,
          5,
          5,
          5,
          1,
          5,
          5,
          5,
          5,
          5,
          1,
          4,
          5,
          1,
          1,
          5,
          5,
          5,
          2,
          5,
          5,
          5,
          4,
          5,
          5,
          5,
          5,
          1,
          1,
          1,
          1,
          1,
          1,
          5,
          3,
          5,
          5,
          5,
          5,
          5,
          1,
          1,
          1,
          5,
          5,
          4,
          5,
          5,
          5,
          1,
          1,
          5,
          5,
          5,
          5,
          5,
          4,
          5,
          5,
          5,
          5,
          2,
          1,
          5,
          5,
          5,
          1,
          1,
          1,
          1,
          1,
          1,
          1,
          4,
          2,
          5,
          5,
          5,
          5,
          5,
          5,
          1,
          1,
          1,
          5,
          5,
          1,
          1,
          1,
          3,
          4,
          3,
          1,
          1,
          5,
          5,
          5,
          5,
          3,
          3,
          5,
          4,
          5,
          5,
          4,
          5,
          5,
          1,
          5,
          5,
          1,
          5,
          4,
          1,
          5,
          5,
          1,
          1,
          1,
          1,
          1,
          5,
          4,
          4,
          5,
          4,
          5,
          4,
          5,
          5,
          5,
          5,
          4,
          3,
          5,
          5,
          5,
          5,
          5,
          1,
          1,
          1,
          1,
          1,
          1,
          1,
          1,
          1,
          1,
          1,
          1,
          5,
          1,
          1,
          5,
          5,
          5,
          1,
          1,
          1,
          2,
          5,
          2,
          3,
          5,
          4,
          5,
          5,
          1,
          2,
          5,
          5,
          4,
          5,
          5,
          3,
          5,
          3,
          5,
          5,
          5,
          5,
          5,
          5,
          5,
          5,
          5,
          5,
          5,
          5,
          5,
          5,
          4,
          3,
          5,
          5,
          5,
          2,
          4,
          3,
          5,
          3,
          5,
          5,
          5,
          1,
          2,
          5,
          5,
          5,
          5,
          5,
          1,
          5,
          5,
          5,
          5,
          5,
          5,
          1,
          2,
          5,
          5,
          1,
          5,
          4,
          5,
          5,
          4,
          5,
          5,
          4,
          5,
          5,
          5,
          5,
          2,
          5,
          5,
          2,
          5,
          5,
          5,
          5,
          5,
          5,
          1,
          1,
          5,
          1,
          1,
          1,
          5,
          1,
          5,
          5,
          5,
          3,
          5,
          4,
          2,
          5,
          5,
          1,
          3,
          5,
          1,
          1,
          1,
          5,
          5,
          1,
          1,
          1,
          5,
          1,
          5,
          5,
          5,
          1,
          1,
          1,
          1,
          1,
          1,
          5,
          5,
          4,
          4,
          5,
          5,
          4,
          5,
          5,
          5,
          5,
          5,
          1,
          1,
          5,
          5,
          5,
          1,
          1,
          1,
          4,
          5,
          5,
          5,
          5,
          4,
          5,
          5,
          5,
          5,
          3,
          2,
          1,
          1,
          1,
          1,
          1,
          1,
          3,
          1,
          4,
          5,
          4,
          5,
          5,
          5,
          5,
          5,
          4,
          5,
          3,
          3,
          2,
          3,
          1,
          2,
          3,
          3,
          1,
          2,
          4,
          5,
          4,
          5,
          5,
          5,
          5,
          5,
          1,
          5,
          5,
          3,
          2,
          2,
          3,
          3,
          2,
          1,
          3,
          3,
          1,
          2,
          1,
          1,
          1,
          3,
          1,
          1,
          1,
          3,
          3,
          2,
          2,
          1,
          1,
          2,
          3,
          3,
          3,
          2,
          3,
          2,
          2,
          2,
          1,
          1,
          1,
          5,
          5,
          5,
          5,
          5,
          5,
          4,
          5,
          5,
          4,
          4,
          5,
          5,
          5,
          5,
          5,
          4,
          5,
          5,
          5,
          3,
          3,
          3,
          2,
          3,
          3,
          3,
          3,
          3,
          2,
          4,
          4,
          4,
          5,
          5,
          5,
          5,
          5,
          5,
          4,
          3,
          3,
          3,
          3,
          2,
          3,
          1,
          1,
          1,
          1,
          4,
          5,
          5,
          5,
          5,
          4,
          4,
          4,
          5,
          5,
          4,
          4,
          5,
          5,
          5,
          5,
          4,
          5,
          5,
          4,
          5,
          5,
          5,
          5,
          4,
          4,
          4,
          4,
          4,
          5,
          5,
          4,
          5,
          4,
          4,
          4,
          5,
          4,
          4,
          5,
          5,
          5,
          4,
          5,
          4,
          5,
          5,
          5,
          5,
          5,
          5,
          4,
          4,
          5,
          5,
          5,
          5,
          5,
          5,
          5,
          4,
          5,
          5,
          5,
          5,
          5,
          5,
          4,
          4,
          5,
          4,
          5,
          5,
          5,
          5,
          5,
          5,
          5,
          5,
          5,
          5,
          5,
          4,
          5,
          5,
          5,
          5,
          4,
          5,
          5,
          5,
          5,
          5,
          5,
          5,
          4,
          5,
          4,
          5,
          4,
          5,
          5,
          4,
          5,
          5,
          5,
          5,
          5,
          1,
          1,
          2,
          1,
          1,
          1,
          1,
          2,
          3,
          1,
          1,
          1,
          1,
          3,
          2,
          2,
          2,
          1,
          1,
          1,
          4,
          5,
          5,
          4,
          5,
          5,
          5,
          5,
          4,
          4,
          4,
          5,
          5,
          5,
          5,
          5,
          4,
          4,
          5,
          4,
          5,
          5,
          5,
          5,
          5,
          5,
          4,
          5,
          5,
          4,
          5,
          5,
          5,
          5,
          5,
          5,
          5,
          5,
          5,
          5,
          5,
          5,
          5,
          1,
          1,
          1,
          1,
          1,
          2,
          1,
          1,
          1,
          1,
          2,
          2,
          1,
          1,
          3,
          3,
          2,
          2,
          1,
          1,
          5,
          5,
          5,
          4,
          5,
          5,
          5,
          5,
          5,
          5,
          5,
          5,
          5,
          4,
          5,
          5,
          5,
          4,
          4,
          5,
          5,
          5,
          5,
          4,
          4,
          5,
          5,
          5,
          5,
          5,
          5,
          5,
          4,
          5,
          4,
          5,
          5,
          5,
          4,
          5,
          5,
          5,
          4,
          5,
          5,
          5,
          4,
          5,
          5,
          4,
          4,
          5,
          5,
          5,
          5,
          5,
          5,
          4,
          5,
          4,
          4,
          5,
          5,
          4,
          5,
          5,
          5,
          5,
          5,
          5,
          5,
          5,
          4,
          4,
          1,
          1,
          1,
          1,
          5,
          5,
          5,
          5,
          5,
          5,
          5,
          5,
          5,
          5,
          5,
          5,
          4,
          4,
          5,
          5,
          5,
          5,
          5,
          5,
          5,
          5,
          1,
          3,
          3,
          3,
          1,
          1,
          2,
          2,
          1,
          1,
          5,
          5,
          5,
          4,
          5,
          5,
          1,
          2,
          3,
          3,
          1,
          1,
          1,
          3,
          1,
          1,
          3,
          2,
          1,
          1,
          2,
          1,
          3,
          1,
          2,
          1,
          5,
          5,
          5,
          1,
          1,
          2,
          2,
          2,
          1,
          3,
          3,
          3,
          3,
          1,
          1,
          2,
          1,
          1,
          1,
          1,
          1,
          1,
          2,
          1,
          1,
          1,
          3,
          2,
          2,
          1,
          1,
          2,
          1,
          3,
          2,
          3,
          3,
          3,
          1,
          1,
          3,
          2,
          1,
          5,
          5,
          5,
          5,
          5,
          5,
          4,
          4,
          5,
          5,
          5,
          5,
          5,
          1,
          3,
          3,
          3,
          2,
          1,
          1,
          3,
          1,
          1,
          5,
          5,
          5,
          5,
          5,
          5,
          4,
          5,
          5,
          5,
          5,
          4,
          4,
          4,
          4,
          5,
          5,
          5,
          4,
          5,
          4,
          3,
          2,
          2,
          3,
          1,
          1,
          1,
          1,
          2,
          1,
          5,
          4,
          5,
          5,
          5,
          5,
          4,
          5,
          5,
          5,
          3,
          3,
          2,
          3,
          1,
          2,
          1,
          2,
          1,
          1,
          5,
          5,
          5,
          4,
          5,
          4,
          5,
          5,
          5,
          5,
          5,
          5,
          5,
          4,
          4,
          4,
          4,
          4,
          4,
          5,
          5,
          4,
          5,
          4,
          5,
          5,
          5,
          5,
          5,
          5,
          3,
          3,
          3,
          2,
          3,
          3,
          3,
          1,
          3,
          1,
          3,
          3,
          2,
          2,
          3,
          3,
          3,
          3,
          1,
          2,
          1,
          1,
          1,
          2,
          5,
          5,
          5,
          5,
          5,
          5,
          4,
          1,
          1,
          1,
          1,
          1,
          1,
          3,
          1,
          1,
          1,
          5,
          5,
          5,
          5,
          5,
          5,
          5,
          5,
          5,
          5,
          5,
          5,
          5,
          5,
          5,
          5,
          5,
          5,
          5,
          5,
          5,
          5,
          5,
          5,
          5,
          5,
          5,
          4,
          5,
          4,
          5,
          5,
          5,
          1,
          5,
          5,
          5,
          5,
          5,
          5,
          1,
          5,
          5,
          5,
          5,
          4,
          5,
          5,
          5,
          4,
          5,
          5,
          5,
          5,
          5,
          1,
          2,
          1,
          1,
          1,
          1,
          1,
          1,
          1,
          1,
          1,
          2,
          3,
          3,
          2,
          2,
          1,
          2,
          1,
          2,
          3,
          3,
          1,
          1,
          3,
          2,
          1,
          3,
          3,
          3,
          1,
          1,
          1,
          1,
          1,
          1,
          1,
          1,
          1,
          1,
          1,
          1,
          1,
          3,
          2,
          3,
          1,
          1,
          1,
          1,
          5,
          4,
          4,
          4,
          5,
          5,
          5,
          5,
          5,
          2,
          1,
          1,
          1,
          1,
          1,
          1,
          1,
          1,
          1,
          1,
          3,
          3,
          1,
          3,
          1,
          2,
          3,
          3,
          1,
          5,
          5,
          5,
          4,
          5,
          5,
          5,
          5,
          4,
          5,
          4,
          5,
          5,
          5,
          4,
          5,
          5,
          5,
          5,
          5,
          5,
          5,
          5,
          4,
          4,
          4,
          4,
          4,
          5,
          5,
          5,
          5,
          5,
          5,
          4,
          5,
          5,
          5,
          5,
          4,
          5,
          5,
          5,
          5,
          4,
          4,
          5,
          4,
          5,
          5,
          5,
          5,
          5,
          5,
          5,
          5,
          4,
          5,
          5,
          5,
          4,
          5,
          4,
          4,
          5,
          5,
          5,
          5,
          4,
          5,
          4,
          4,
          5,
          5,
          5,
          1,
          1,
          1,
          1,
          1,
          2,
          1,
          1,
          1,
          3,
          2,
          1,
          1,
          2,
          3,
          3,
          1,
          2,
          1,
          1,
          4,
          4,
          5,
          3,
          2,
          3,
          2,
          3,
          1,
          3,
          3,
          1,
          1,
          5,
          5,
          5,
          5,
          5,
          5,
          5,
          5,
          5,
          5,
          5,
          5,
          4,
          4,
          5,
          5,
          5,
          4,
          5,
          4,
          4,
          5,
          2,
          1,
          1,
          3,
          3,
          3,
          3,
          3,
          1,
          2,
          1,
          1,
          1,
          2,
          3,
          1,
          1,
          2,
          1,
          3,
          2,
          1,
          1,
          3,
          1,
          1,
          2,
          3,
          1,
          1
         ],
         "xaxis": "x",
         "yaxis": "y"
        }
       ],
       "layout": {
        "barmode": "relative",
        "legend": {
         "tracegroupgap": 0
        },
        "template": {
         "data": {
          "bar": [
           {
            "error_x": {
             "color": "#2a3f5f"
            },
            "error_y": {
             "color": "#2a3f5f"
            },
            "marker": {
             "line": {
              "color": "#E5ECF6",
              "width": 0.5
             },
             "pattern": {
              "fillmode": "overlay",
              "size": 10,
              "solidity": 0.2
             }
            },
            "type": "bar"
           }
          ],
          "barpolar": [
           {
            "marker": {
             "line": {
              "color": "#E5ECF6",
              "width": 0.5
             },
             "pattern": {
              "fillmode": "overlay",
              "size": 10,
              "solidity": 0.2
             }
            },
            "type": "barpolar"
           }
          ],
          "carpet": [
           {
            "aaxis": {
             "endlinecolor": "#2a3f5f",
             "gridcolor": "white",
             "linecolor": "white",
             "minorgridcolor": "white",
             "startlinecolor": "#2a3f5f"
            },
            "baxis": {
             "endlinecolor": "#2a3f5f",
             "gridcolor": "white",
             "linecolor": "white",
             "minorgridcolor": "white",
             "startlinecolor": "#2a3f5f"
            },
            "type": "carpet"
           }
          ],
          "choropleth": [
           {
            "colorbar": {
             "outlinewidth": 0,
             "ticks": ""
            },
            "type": "choropleth"
           }
          ],
          "contour": [
           {
            "colorbar": {
             "outlinewidth": 0,
             "ticks": ""
            },
            "colorscale": [
             [
              0,
              "#0d0887"
             ],
             [
              0.1111111111111111,
              "#46039f"
             ],
             [
              0.2222222222222222,
              "#7201a8"
             ],
             [
              0.3333333333333333,
              "#9c179e"
             ],
             [
              0.4444444444444444,
              "#bd3786"
             ],
             [
              0.5555555555555556,
              "#d8576b"
             ],
             [
              0.6666666666666666,
              "#ed7953"
             ],
             [
              0.7777777777777778,
              "#fb9f3a"
             ],
             [
              0.8888888888888888,
              "#fdca26"
             ],
             [
              1,
              "#f0f921"
             ]
            ],
            "type": "contour"
           }
          ],
          "contourcarpet": [
           {
            "colorbar": {
             "outlinewidth": 0,
             "ticks": ""
            },
            "type": "contourcarpet"
           }
          ],
          "heatmap": [
           {
            "colorbar": {
             "outlinewidth": 0,
             "ticks": ""
            },
            "colorscale": [
             [
              0,
              "#0d0887"
             ],
             [
              0.1111111111111111,
              "#46039f"
             ],
             [
              0.2222222222222222,
              "#7201a8"
             ],
             [
              0.3333333333333333,
              "#9c179e"
             ],
             [
              0.4444444444444444,
              "#bd3786"
             ],
             [
              0.5555555555555556,
              "#d8576b"
             ],
             [
              0.6666666666666666,
              "#ed7953"
             ],
             [
              0.7777777777777778,
              "#fb9f3a"
             ],
             [
              0.8888888888888888,
              "#fdca26"
             ],
             [
              1,
              "#f0f921"
             ]
            ],
            "type": "heatmap"
           }
          ],
          "heatmapgl": [
           {
            "colorbar": {
             "outlinewidth": 0,
             "ticks": ""
            },
            "colorscale": [
             [
              0,
              "#0d0887"
             ],
             [
              0.1111111111111111,
              "#46039f"
             ],
             [
              0.2222222222222222,
              "#7201a8"
             ],
             [
              0.3333333333333333,
              "#9c179e"
             ],
             [
              0.4444444444444444,
              "#bd3786"
             ],
             [
              0.5555555555555556,
              "#d8576b"
             ],
             [
              0.6666666666666666,
              "#ed7953"
             ],
             [
              0.7777777777777778,
              "#fb9f3a"
             ],
             [
              0.8888888888888888,
              "#fdca26"
             ],
             [
              1,
              "#f0f921"
             ]
            ],
            "type": "heatmapgl"
           }
          ],
          "histogram": [
           {
            "marker": {
             "pattern": {
              "fillmode": "overlay",
              "size": 10,
              "solidity": 0.2
             }
            },
            "type": "histogram"
           }
          ],
          "histogram2d": [
           {
            "colorbar": {
             "outlinewidth": 0,
             "ticks": ""
            },
            "colorscale": [
             [
              0,
              "#0d0887"
             ],
             [
              0.1111111111111111,
              "#46039f"
             ],
             [
              0.2222222222222222,
              "#7201a8"
             ],
             [
              0.3333333333333333,
              "#9c179e"
             ],
             [
              0.4444444444444444,
              "#bd3786"
             ],
             [
              0.5555555555555556,
              "#d8576b"
             ],
             [
              0.6666666666666666,
              "#ed7953"
             ],
             [
              0.7777777777777778,
              "#fb9f3a"
             ],
             [
              0.8888888888888888,
              "#fdca26"
             ],
             [
              1,
              "#f0f921"
             ]
            ],
            "type": "histogram2d"
           }
          ],
          "histogram2dcontour": [
           {
            "colorbar": {
             "outlinewidth": 0,
             "ticks": ""
            },
            "colorscale": [
             [
              0,
              "#0d0887"
             ],
             [
              0.1111111111111111,
              "#46039f"
             ],
             [
              0.2222222222222222,
              "#7201a8"
             ],
             [
              0.3333333333333333,
              "#9c179e"
             ],
             [
              0.4444444444444444,
              "#bd3786"
             ],
             [
              0.5555555555555556,
              "#d8576b"
             ],
             [
              0.6666666666666666,
              "#ed7953"
             ],
             [
              0.7777777777777778,
              "#fb9f3a"
             ],
             [
              0.8888888888888888,
              "#fdca26"
             ],
             [
              1,
              "#f0f921"
             ]
            ],
            "type": "histogram2dcontour"
           }
          ],
          "mesh3d": [
           {
            "colorbar": {
             "outlinewidth": 0,
             "ticks": ""
            },
            "type": "mesh3d"
           }
          ],
          "parcoords": [
           {
            "line": {
             "colorbar": {
              "outlinewidth": 0,
              "ticks": ""
             }
            },
            "type": "parcoords"
           }
          ],
          "pie": [
           {
            "automargin": true,
            "type": "pie"
           }
          ],
          "scatter": [
           {
            "fillpattern": {
             "fillmode": "overlay",
             "size": 10,
             "solidity": 0.2
            },
            "type": "scatter"
           }
          ],
          "scatter3d": [
           {
            "line": {
             "colorbar": {
              "outlinewidth": 0,
              "ticks": ""
             }
            },
            "marker": {
             "colorbar": {
              "outlinewidth": 0,
              "ticks": ""
             }
            },
            "type": "scatter3d"
           }
          ],
          "scattercarpet": [
           {
            "marker": {
             "colorbar": {
              "outlinewidth": 0,
              "ticks": ""
             }
            },
            "type": "scattercarpet"
           }
          ],
          "scattergeo": [
           {
            "marker": {
             "colorbar": {
              "outlinewidth": 0,
              "ticks": ""
             }
            },
            "type": "scattergeo"
           }
          ],
          "scattergl": [
           {
            "marker": {
             "colorbar": {
              "outlinewidth": 0,
              "ticks": ""
             }
            },
            "type": "scattergl"
           }
          ],
          "scattermapbox": [
           {
            "marker": {
             "colorbar": {
              "outlinewidth": 0,
              "ticks": ""
             }
            },
            "type": "scattermapbox"
           }
          ],
          "scatterpolar": [
           {
            "marker": {
             "colorbar": {
              "outlinewidth": 0,
              "ticks": ""
             }
            },
            "type": "scatterpolar"
           }
          ],
          "scatterpolargl": [
           {
            "marker": {
             "colorbar": {
              "outlinewidth": 0,
              "ticks": ""
             }
            },
            "type": "scatterpolargl"
           }
          ],
          "scatterternary": [
           {
            "marker": {
             "colorbar": {
              "outlinewidth": 0,
              "ticks": ""
             }
            },
            "type": "scatterternary"
           }
          ],
          "surface": [
           {
            "colorbar": {
             "outlinewidth": 0,
             "ticks": ""
            },
            "colorscale": [
             [
              0,
              "#0d0887"
             ],
             [
              0.1111111111111111,
              "#46039f"
             ],
             [
              0.2222222222222222,
              "#7201a8"
             ],
             [
              0.3333333333333333,
              "#9c179e"
             ],
             [
              0.4444444444444444,
              "#bd3786"
             ],
             [
              0.5555555555555556,
              "#d8576b"
             ],
             [
              0.6666666666666666,
              "#ed7953"
             ],
             [
              0.7777777777777778,
              "#fb9f3a"
             ],
             [
              0.8888888888888888,
              "#fdca26"
             ],
             [
              1,
              "#f0f921"
             ]
            ],
            "type": "surface"
           }
          ],
          "table": [
           {
            "cells": {
             "fill": {
              "color": "#EBF0F8"
             },
             "line": {
              "color": "white"
             }
            },
            "header": {
             "fill": {
              "color": "#C8D4E3"
             },
             "line": {
              "color": "white"
             }
            },
            "type": "table"
           }
          ]
         },
         "layout": {
          "annotationdefaults": {
           "arrowcolor": "#2a3f5f",
           "arrowhead": 0,
           "arrowwidth": 1
          },
          "autotypenumbers": "strict",
          "coloraxis": {
           "colorbar": {
            "outlinewidth": 0,
            "ticks": ""
           }
          },
          "colorscale": {
           "diverging": [
            [
             0,
             "#8e0152"
            ],
            [
             0.1,
             "#c51b7d"
            ],
            [
             0.2,
             "#de77ae"
            ],
            [
             0.3,
             "#f1b6da"
            ],
            [
             0.4,
             "#fde0ef"
            ],
            [
             0.5,
             "#f7f7f7"
            ],
            [
             0.6,
             "#e6f5d0"
            ],
            [
             0.7,
             "#b8e186"
            ],
            [
             0.8,
             "#7fbc41"
            ],
            [
             0.9,
             "#4d9221"
            ],
            [
             1,
             "#276419"
            ]
           ],
           "sequential": [
            [
             0,
             "#0d0887"
            ],
            [
             0.1111111111111111,
             "#46039f"
            ],
            [
             0.2222222222222222,
             "#7201a8"
            ],
            [
             0.3333333333333333,
             "#9c179e"
            ],
            [
             0.4444444444444444,
             "#bd3786"
            ],
            [
             0.5555555555555556,
             "#d8576b"
            ],
            [
             0.6666666666666666,
             "#ed7953"
            ],
            [
             0.7777777777777778,
             "#fb9f3a"
            ],
            [
             0.8888888888888888,
             "#fdca26"
            ],
            [
             1,
             "#f0f921"
            ]
           ],
           "sequentialminus": [
            [
             0,
             "#0d0887"
            ],
            [
             0.1111111111111111,
             "#46039f"
            ],
            [
             0.2222222222222222,
             "#7201a8"
            ],
            [
             0.3333333333333333,
             "#9c179e"
            ],
            [
             0.4444444444444444,
             "#bd3786"
            ],
            [
             0.5555555555555556,
             "#d8576b"
            ],
            [
             0.6666666666666666,
             "#ed7953"
            ],
            [
             0.7777777777777778,
             "#fb9f3a"
            ],
            [
             0.8888888888888888,
             "#fdca26"
            ],
            [
             1,
             "#f0f921"
            ]
           ]
          },
          "colorway": [
           "#636efa",
           "#EF553B",
           "#00cc96",
           "#ab63fa",
           "#FFA15A",
           "#19d3f3",
           "#FF6692",
           "#B6E880",
           "#FF97FF",
           "#FECB52"
          ],
          "font": {
           "color": "#2a3f5f"
          },
          "geo": {
           "bgcolor": "white",
           "lakecolor": "white",
           "landcolor": "#E5ECF6",
           "showlakes": true,
           "showland": true,
           "subunitcolor": "white"
          },
          "hoverlabel": {
           "align": "left"
          },
          "hovermode": "closest",
          "mapbox": {
           "style": "light"
          },
          "paper_bgcolor": "white",
          "plot_bgcolor": "#E5ECF6",
          "polar": {
           "angularaxis": {
            "gridcolor": "white",
            "linecolor": "white",
            "ticks": ""
           },
           "bgcolor": "#E5ECF6",
           "radialaxis": {
            "gridcolor": "white",
            "linecolor": "white",
            "ticks": ""
           }
          },
          "scene": {
           "xaxis": {
            "backgroundcolor": "#E5ECF6",
            "gridcolor": "white",
            "gridwidth": 2,
            "linecolor": "white",
            "showbackground": true,
            "ticks": "",
            "zerolinecolor": "white"
           },
           "yaxis": {
            "backgroundcolor": "#E5ECF6",
            "gridcolor": "white",
            "gridwidth": 2,
            "linecolor": "white",
            "showbackground": true,
            "ticks": "",
            "zerolinecolor": "white"
           },
           "zaxis": {
            "backgroundcolor": "#E5ECF6",
            "gridcolor": "white",
            "gridwidth": 2,
            "linecolor": "white",
            "showbackground": true,
            "ticks": "",
            "zerolinecolor": "white"
           }
          },
          "shapedefaults": {
           "line": {
            "color": "#2a3f5f"
           }
          },
          "ternary": {
           "aaxis": {
            "gridcolor": "white",
            "linecolor": "white",
            "ticks": ""
           },
           "baxis": {
            "gridcolor": "white",
            "linecolor": "white",
            "ticks": ""
           },
           "bgcolor": "#E5ECF6",
           "caxis": {
            "gridcolor": "white",
            "linecolor": "white",
            "ticks": ""
           }
          },
          "title": {
           "x": 0.05
          },
          "xaxis": {
           "automargin": true,
           "gridcolor": "white",
           "linecolor": "white",
           "ticks": "",
           "title": {
            "standoff": 15
           },
           "zerolinecolor": "white",
           "zerolinewidth": 2
          },
          "yaxis": {
           "automargin": true,
           "gridcolor": "white",
           "linecolor": "white",
           "ticks": "",
           "title": {
            "standoff": 15
           },
           "zerolinecolor": "white",
           "zerolinewidth": 2
          }
         }
        },
        "title": {
         "text": "Rating Score Distribution"
        },
        "xaxis": {
         "anchor": "y",
         "domain": [
          0,
          1
         ],
         "title": {
          "text": "ratingScore"
         }
        },
        "yaxis": {
         "anchor": "x",
         "domain": [
          0,
          1
         ],
         "title": {
          "text": "count"
         }
        }
       }
      }
     },
     "metadata": {},
     "output_type": "display_data"
    }
   ],
   "source": [
    "fig=px.histogram(df,x='ratingScore',nbins=5,title='Rating Score Distribution')\n",
    "\n",
    "fig.show()"
   ]
  },
  {
   "cell_type": "code",
   "execution_count": 23,
   "metadata": {},
   "outputs": [
    {
     "name": "stderr",
     "output_type": "stream",
     "text": [
      "C:\\Users\\Saravanan\\AppData\\Local\\Temp\\ipykernel_11680\\2613684399.py:2: FutureWarning:\n",
      "\n",
      "\n",
      "\n",
      "Passing `palette` without assigning `hue` is deprecated and will be removed in v0.14.0. Assign the `x` variable to `hue` and set `legend=False` for the same effect.\n",
      "\n",
      "\n"
     ]
    },
    {
     "data": {
      "image/png": "[encoded data removed]",
      "text/plain": [
       "<Figure size 1000x800 with 1 Axes>"
      ]
     },
     "metadata": {},
     "output_type": "display_data"
    }
   ],
   "source": [
    "plt.figure(figsize=(10,8))\n",
    "sns.barplot(x='country',y='ratingScore',data=df,palette='viridis')\n",
    "plt.title('Rating Score by Country')\n",
    "plt.show()"
   ]
  },
  {
   "cell_type": "code",
   "execution_count": 24,
   "metadata": {},
   "outputs": [
    {
     "name": "stderr",
     "output_type": "stream",
     "text": [
      "C:\\Users\\Saravanan\\AppData\\Local\\Temp\\ipykernel_11680\\3390688534.py:2: FutureWarning:\n",
      "\n",
      "\n",
      "\n",
      "Passing `palette` without assigning `hue` is deprecated and will be removed in v0.14.0. Assign the `x` variable to `hue` and set `legend=False` for the same effect.\n",
      "\n",
      "\n"
     ]
    },
    {
     "data": {
      "image/png": "[encoded data removed]",
      "text/plain": [
       "<Figure size 800x600 with 1 Axes>"
      ]
     },
     "metadata": {},
     "output_type": "display_data"
    }
   ],
   "source": [
    "plt.figure(figsize=(8, 6))\n",
    "sns.countplot(data=df, x='ratingScore', palette='viridis')\n",
    "plt.title('Distribution of Ratings')\n",
    "plt.xlabel('Rating Score')\n",
    "plt.ylabel('Count')\n",
    "plt.show()"
   ]
  },
  {
   "cell_type": "code",
   "execution_count": 26,
   "metadata": {},
   "outputs": [
    {
     "data": {
      "application/vnd.plotly.v1+json": {
       "config": {
        "plotlyServerURL": "https://plot.ly"
       },
       "data": [
        {
         "alignmentgroup": "True",
         "hovertemplate": "Rating Score=1<br>isVerified=%{x}<br>Count of Reviews=%{y}<extra></extra>",
         "legendgroup": "1",
         "marker": {
          "color": "#636efa",
          "pattern": {
           "shape": ""
          }
         },
         "name": "1",
         "offsetgroup": "1",
         "orientation": "v",
         "showlegend": true,
         "textposition": "auto",
         "type": "bar",
         "x": [
          false,
          true
         ],
         "xaxis": "x",
         "y": [
          65,
          522
         ],
         "yaxis": "y"
        },
        {
         "alignmentgroup": "True",
         "hovertemplate": "Rating Score=2<br>isVerified=%{x}<br>Count of Reviews=%{y}<extra></extra>",
         "legendgroup": "2",
         "marker": {
          "color": "#EF553B",
          "pattern": {
           "shape": ""
          }
         },
         "name": "2",
         "offsetgroup": "2",
         "orientation": "v",
         "showlegend": true,
         "textposition": "auto",
         "type": "bar",
         "x": [
          false,
          true
         ],
         "xaxis": "x",
         "y": [
          19,
          152
         ],
         "yaxis": "y"
        },
        {
         "alignmentgroup": "True",
         "hovertemplate": "Rating Score=3<br>isVerified=%{x}<br>Count of Reviews=%{y}<extra></extra>",
         "legendgroup": "3",
         "marker": {
          "color": "#00cc96",
          "pattern": {
           "shape": ""
          }
         },
         "name": "3",
         "offsetgroup": "3",
         "orientation": "v",
         "showlegend": true,
         "textposition": "auto",
         "type": "bar",
         "x": [
          false,
          true
         ],
         "xaxis": "x",
         "y": [
          17,
          222
         ],
         "yaxis": "y"
        },
        {
         "alignmentgroup": "True",
         "hovertemplate": "Rating Score=4<br>isVerified=%{x}<br>Count of Reviews=%{y}<extra></extra>",
         "legendgroup": "4",
         "marker": {
          "color": "#ab63fa",
          "pattern": {
           "shape": ""
          }
         },
         "name": "4",
         "offsetgroup": "4",
         "orientation": "v",
         "showlegend": true,
         "textposition": "auto",
         "type": "bar",
         "x": [
          false,
          true
         ],
         "xaxis": "x",
         "y": [
          27,
          434
         ],
         "yaxis": "y"
        },
        {
         "alignmentgroup": "True",
         "hovertemplate": "Rating Score=5<br>isVerified=%{x}<br>Count of Reviews=%{y}<extra></extra>",
         "legendgroup": "5",
         "marker": {
          "color": "#FFA15A",
          "pattern": {
           "shape": ""
          }
         },
         "name": "5",
         "offsetgroup": "5",
         "orientation": "v",
         "showlegend": true,
         "textposition": "auto",
         "type": "bar",
         "x": [
          false,
          true
         ],
         "xaxis": "x",
         "y": [
          84,
          1520
         ],
         "yaxis": "y"
        }
       ],
       "layout": {
        "barmode": "group",
        "legend": {
         "title": {
          "text": "Rating Score"
         },
         "tracegroupgap": 0
        },
        "template": {
         "data": {
          "bar": [
           {
            "error_x": {
             "color": "#2a3f5f"
            },
            "error_y": {
             "color": "#2a3f5f"
            },
            "marker": {
             "line": {
              "color": "#E5ECF6",
              "width": 0.5
             },
             "pattern": {
              "fillmode": "overlay",
              "size": 10,
              "solidity": 0.2
             }
            },
            "type": "bar"
           }
          ],
          "barpolar": [
           {
            "marker": {
             "line": {
              "color": "#E5ECF6",
              "width": 0.5
             },
             "pattern": {
              "fillmode": "overlay",
              "size": 10,
              "solidity": 0.2
             }
            },
            "type": "barpolar"
           }
          ],
          "carpet": [
           {
            "aaxis": {
             "endlinecolor": "#2a3f5f",
             "gridcolor": "white",
             "linecolor": "white",
             "minorgridcolor": "white",
             "startlinecolor": "#2a3f5f"
            },
            "baxis": {
             "endlinecolor": "#2a3f5f",
             "gridcolor": "white",
             "linecolor": "white",
             "minorgridcolor": "white",
             "startlinecolor": "#2a3f5f"
            },
            "type": "carpet"
           }
          ],
          "choropleth": [
           {
            "colorbar": {
             "outlinewidth": 0,
             "ticks": ""
            },
            "type": "choropleth"
           }
          ],
          "contour": [
           {
            "colorbar": {
             "outlinewidth": 0,
             "ticks": ""
            },
            "colorscale": [
             [
              0,
              "#0d0887"
             ],
             [
              0.1111111111111111,
              "#46039f"
             ],
             [
              0.2222222222222222,
              "#7201a8"
             ],
             [
              0.3333333333333333,
              "#9c179e"
             ],
             [
              0.4444444444444444,
              "#bd3786"
             ],
             [
              0.5555555555555556,
              "#d8576b"
             ],
             [
              0.6666666666666666,
              "#ed7953"
             ],
             [
              0.7777777777777778,
              "#fb9f3a"
             ],
             [
              0.8888888888888888,
              "#fdca26"
             ],
             [
              1,
              "#f0f921"
             ]
            ],
            "type": "contour"
           }
          ],
          "contourcarpet": [
           {
            "colorbar": {
             "outlinewidth": 0,
             "ticks": ""
            },
            "type": "contourcarpet"
           }
          ],
          "heatmap": [
           {
            "colorbar": {
             "outlinewidth": 0,
             "ticks": ""
            },
            "colorscale": [
             [
              0,
              "#0d0887"
             ],
             [
              0.1111111111111111,
              "#46039f"
             ],
             [
              0.2222222222222222,
              "#7201a8"
             ],
             [
              0.3333333333333333,
              "#9c179e"
             ],
             [
              0.4444444444444444,
              "#bd3786"
             ],
             [
              0.5555555555555556,
              "#d8576b"
             ],
             [
              0.6666666666666666,
              "#ed7953"
             ],
             [
              0.7777777777777778,
              "#fb9f3a"
             ],
             [
              0.8888888888888888,
              "#fdca26"
             ],
             [
              1,
              "#f0f921"
             ]
            ],
            "type": "heatmap"
           }
          ],
          "heatmapgl": [
           {
            "colorbar": {
             "outlinewidth": 0,
             "ticks": ""
            },
            "colorscale": [
             [
              0,
              "#0d0887"
             ],
             [
              0.1111111111111111,
              "#46039f"
             ],
             [
              0.2222222222222222,
              "#7201a8"
             ],
             [
              0.3333333333333333,
              "#9c179e"
             ],
             [
              0.4444444444444444,
              "#bd3786"
             ],
             [
              0.5555555555555556,
              "#d8576b"
             ],
             [
              0.6666666666666666,
              "#ed7953"
             ],
             [
              0.7777777777777778,
              "#fb9f3a"
             ],
             [
              0.8888888888888888,
              "#fdca26"
             ],
             [
              1,
              "#f0f921"
             ]
            ],
            "type": "heatmapgl"
           }
          ],
          "histogram": [
           {
            "marker": {
             "pattern": {
              "fillmode": "overlay",
              "size": 10,
              "solidity": 0.2
             }
            },
            "type": "histogram"
           }
          ],
          "histogram2d": [
           {
            "colorbar": {
             "outlinewidth": 0,
             "ticks": ""
            },
            "colorscale": [
             [
              0,
              "#0d0887"
             ],
             [
              0.1111111111111111,
              "#46039f"
             ],
             [
              0.2222222222222222,
              "#7201a8"
             ],
             [
              0.3333333333333333,
              "#9c179e"
             ],
             [
              0.4444444444444444,
              "#bd3786"
             ],
             [
              0.5555555555555556,
              "#d8576b"
             ],
             [
              0.6666666666666666,
              "#ed7953"
             ],
             [
              0.7777777777777778,
              "#fb9f3a"
             ],
             [
              0.8888888888888888,
              "#fdca26"
             ],
             [
              1,
              "#f0f921"
             ]
            ],
            "type": "histogram2d"
           }
          ],
          "histogram2dcontour": [
           {
            "colorbar": {
             "outlinewidth": 0,
             "ticks": ""
            },
            "colorscale": [
             [
              0,
              "#0d0887"
             ],
             [
              0.1111111111111111,
              "#46039f"
             ],
             [
              0.2222222222222222,
              "#7201a8"
             ],
             [
              0.3333333333333333,
              "#9c179e"
             ],
             [
              0.4444444444444444,
              "#bd3786"
             ],
             [
              0.5555555555555556,
              "#d8576b"
             ],
             [
              0.6666666666666666,
              "#ed7953"
             ],
             [
              0.7777777777777778,
              "#fb9f3a"
             ],
             [
              0.8888888888888888,
              "#fdca26"
             ],
             [
              1,
              "#f0f921"
             ]
            ],
            "type": "histogram2dcontour"
           }
          ],
          "mesh3d": [
           {
            "colorbar": {
             "outlinewidth": 0,
             "ticks": ""
            },
            "type": "mesh3d"
           }
          ],
          "parcoords": [
           {
            "line": {
             "colorbar": {
              "outlinewidth": 0,
              "ticks": ""
             }
            },
            "type": "parcoords"
           }
          ],
          "pie": [
           {
            "automargin": true,
            "type": "pie"
           }
          ],
          "scatter": [
           {
            "fillpattern": {
             "fillmode": "overlay",
             "size": 10,
             "solidity": 0.2
            },
            "type": "scatter"
           }
          ],
          "scatter3d": [
           {
            "line": {
             "colorbar": {
              "outlinewidth": 0,
              "ticks": ""
             }
            },
            "marker": {
             "colorbar": {
              "outlinewidth": 0,
              "ticks": ""
             }
            },
            "type": "scatter3d"
           }
          ],
          "scattercarpet": [
           {
            "marker": {
             "colorbar": {
              "outlinewidth": 0,
              "ticks": ""
             }
            },
            "type": "scattercarpet"
           }
          ],
          "scattergeo": [
           {
            "marker": {
             "colorbar": {
              "outlinewidth": 0,
              "ticks": ""
             }
            },
            "type": "scattergeo"
           }
          ],
          "scattergl": [
           {
            "marker": {
             "colorbar": {
              "outlinewidth": 0,
              "ticks": ""
             }
            },
            "type": "scattergl"
           }
          ],
          "scattermapbox": [
           {
            "marker": {
             "colorbar": {
              "outlinewidth": 0,
              "ticks": ""
             }
            },
            "type": "scattermapbox"
           }
          ],
          "scatterpolar": [
           {
            "marker": {
             "colorbar": {
              "outlinewidth": 0,
              "ticks": ""
             }
            },
            "type": "scatterpolar"
           }
          ],
          "scatterpolargl": [
           {
            "marker": {
             "colorbar": {
              "outlinewidth": 0,
              "ticks": ""
             }
            },
            "type": "scatterpolargl"
           }
          ],
          "scatterternary": [
           {
            "marker": {
             "colorbar": {
              "outlinewidth": 0,
              "ticks": ""
             }
            },
            "type": "scatterternary"
           }
          ],
          "surface": [
           {
            "colorbar": {
             "outlinewidth": 0,
             "ticks": ""
            },
            "colorscale": [
             [
              0,
              "#0d0887"
             ],
             [
              0.1111111111111111,
              "#46039f"
             ],
             [
              0.2222222222222222,
              "#7201a8"
             ],
             [
              0.3333333333333333,
              "#9c179e"
             ],
             [
              0.4444444444444444,
              "#bd3786"
             ],
             [
              0.5555555555555556,
              "#d8576b"
             ],
             [
              0.6666666666666666,
              "#ed7953"
             ],
             [
              0.7777777777777778,
              "#fb9f3a"
             ],
             [
              0.8888888888888888,
              "#fdca26"
             ],
             [
              1,
              "#f0f921"
             ]
            ],
            "type": "surface"
           }
          ],
          "table": [
           {
            "cells": {
             "fill": {
              "color": "#EBF0F8"
             },
             "line": {
              "color": "white"
             }
            },
            "header": {
             "fill": {
              "color": "#C8D4E3"
             },
             "line": {
              "color": "white"
             }
            },
            "type": "table"
           }
          ]
         },
         "layout": {
          "annotationdefaults": {
           "arrowcolor": "#2a3f5f",
           "arrowhead": 0,
           "arrowwidth": 1
          },
          "autotypenumbers": "strict",
          "coloraxis": {
           "colorbar": {
            "outlinewidth": 0,
            "ticks": ""
           }
          },
          "colorscale": {
           "diverging": [
            [
             0,
             "#8e0152"
            ],
            [
             0.1,
             "#c51b7d"
            ],
            [
             0.2,
             "#de77ae"
            ],
            [
             0.3,
             "#f1b6da"
            ],
            [
             0.4,
             "#fde0ef"
            ],
            [
             0.5,
             "#f7f7f7"
            ],
            [
             0.6,
             "#e6f5d0"
            ],
            [
             0.7,
             "#b8e186"
            ],
            [
             0.8,
             "#7fbc41"
            ],
            [
             0.9,
             "#4d9221"
            ],
            [
             1,
             "#276419"
            ]
           ],
           "sequential": [
            [
             0,
             "#0d0887"
            ],
            [
             0.1111111111111111,
             "#46039f"
            ],
            [
             0.2222222222222222,
             "#7201a8"
            ],
            [
             0.3333333333333333,
             "#9c179e"
            ],
            [
             0.4444444444444444,
             "#bd3786"
            ],
            [
             0.5555555555555556,
             "#d8576b"
            ],
            [
             0.6666666666666666,
             "#ed7953"
            ],
            [
             0.7777777777777778,
             "#fb9f3a"
            ],
            [
             0.8888888888888888,
             "#fdca26"
            ],
            [
             1,
             "#f0f921"
            ]
           ],
           "sequentialminus": [
            [
             0,
             "#0d0887"
            ],
            [
             0.1111111111111111,
             "#46039f"
            ],
            [
             0.2222222222222222,
             "#7201a8"
            ],
            [
             0.3333333333333333,
             "#9c179e"
            ],
            [
             0.4444444444444444,
             "#bd3786"
            ],
            [
             0.5555555555555556,
             "#d8576b"
            ],
            [
             0.6666666666666666,
             "#ed7953"
            ],
            [
             0.7777777777777778,
             "#fb9f3a"
            ],
            [
             0.8888888888888888,
             "#fdca26"
            ],
            [
             1,
             "#f0f921"
            ]
           ]
          },
          "colorway": [
           "#636efa",
           "#EF553B",
           "#00cc96",
           "#ab63fa",
           "#FFA15A",
           "#19d3f3",
           "#FF6692",
           "#B6E880",
           "#FF97FF",
           "#FECB52"
          ],
          "font": {
           "color": "#2a3f5f"
          },
          "geo": {
           "bgcolor": "white",
           "lakecolor": "white",
           "landcolor": "#E5ECF6",
           "showlakes": true,
           "showland": true,
           "subunitcolor": "white"
          },
          "hoverlabel": {
           "align": "left"
          },
          "hovermode": "closest",
          "mapbox": {
           "style": "light"
          },
          "paper_bgcolor": "white",
          "plot_bgcolor": "#E5ECF6",
          "polar": {
           "angularaxis": {
            "gridcolor": "white",
            "linecolor": "white",
            "ticks": ""
           },
           "bgcolor": "#E5ECF6",
           "radialaxis": {
            "gridcolor": "white",
            "linecolor": "white",
            "ticks": ""
           }
          },
          "scene": {
           "xaxis": {
            "backgroundcolor": "#E5ECF6",
            "gridcolor": "white",
            "gridwidth": 2,
            "linecolor": "white",
            "showbackground": true,
            "ticks": "",
            "zerolinecolor": "white"
           },
           "yaxis": {
            "backgroundcolor": "#E5ECF6",
            "gridcolor": "white",
            "gridwidth": 2,
            "linecolor": "white",
            "showbackground": true,
            "ticks": "",
            "zerolinecolor": "white"
           },
           "zaxis": {
            "backgroundcolor": "#E5ECF6",
            "gridcolor": "white",
            "gridwidth": 2,
            "linecolor": "white",
            "showbackground": true,
            "ticks": "",
            "zerolinecolor": "white"
           }
          },
          "shapedefaults": {
           "line": {
            "color": "#2a3f5f"
           }
          },
          "ternary": {
           "aaxis": {
            "gridcolor": "white",
            "linecolor": "white",
            "ticks": ""
           },
           "baxis": {
            "gridcolor": "white",
            "linecolor": "white",
            "ticks": ""
           },
           "bgcolor": "#E5ECF6",
           "caxis": {
            "gridcolor": "white",
            "linecolor": "white",
            "ticks": ""
           }
          },
          "title": {
           "x": 0.05
          },
          "xaxis": {
           "automargin": true,
           "gridcolor": "white",
           "linecolor": "white",
           "ticks": "",
           "title": {
            "standoff": 15
           },
           "zerolinecolor": "white",
           "zerolinewidth": 2
          },
          "yaxis": {
           "automargin": true,
           "gridcolor": "white",
           "linecolor": "white",
           "ticks": "",
           "title": {
            "standoff": 15
           },
           "zerolinecolor": "white",
           "zerolinewidth": 2
          }
         }
        },
        "title": {
         "text": "Rating Score Distribution for Verified and Unverified Reviews"
        },
        "xaxis": {
         "anchor": "y",
         "domain": [
          0,
          1
         ],
         "title": {
          "text": "isVerified"
         }
        },
        "yaxis": {
         "anchor": "x",
         "domain": [
          0,
          1
         ],
         "title": {
          "text": "Count of Reviews"
         }
        }
       }
      }
     },
     "metadata": {},
     "output_type": "display_data"
    }
   ],
   "source": [
    "verified_ratings=df.groupby('isVerified')['ratingScore'].value_counts().unstack().fillna(0)\n",
    "\n",
    "fig=px.bar(verified_ratings,barmode='group',title='Rating Score Distribution for Verified and Unverified Reviews',labels={'value': 'Count of Reviews', 'ratingScore': 'Rating Score'})\n",
    "fig.show()"
   ]
  }
 ],
 "metadata": {
  "kernelspec": {
   "display_name": ".venv",
   "language": "python",
   "name": "python3"
  },
  "language_info": {
   "codemirror_mode": {
    "name": "ipython",
    "version": 3
   },
   "file_extension": ".py",
   "mimetype": "text/x-python",
   "name": "python",
   "nbconvert_exporter": "python",
   "pygments_lexer": "ipython3",
   "version": "3.11.9"
  }
 },
 "nbformat": 4,
 "nbformat_minor": 2
}
